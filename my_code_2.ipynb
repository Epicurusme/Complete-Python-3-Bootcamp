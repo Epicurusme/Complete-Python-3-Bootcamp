{
  "nbformat": 4,
  "nbformat_minor": 0,
  "metadata": {
    "colab": {
      "provenance": [],
      "toc_visible": true,
      "authorship_tag": "ABX9TyMDAPhxBqkfsNuVSGotuaC1",
      "include_colab_link": true
    },
    "kernelspec": {
      "name": "python3",
      "display_name": "Python 3"
    },
    "language_info": {
      "name": "python"
    }
  },
  "cells": [
    {
      "cell_type": "markdown",
      "metadata": {
        "id": "view-in-github",
        "colab_type": "text"
      },
      "source": [
        "<a href=\"https://colab.research.google.com/github/Epicurusme/Complete-Python-3-Bootcamp/blob/master/my_code_2.ipynb\" target=\"_parent\"><img src=\"https://colab.research.google.com/assets/colab-badge.svg\" alt=\"Open In Colab\"/></a>"
      ]
    },
    {
      "cell_type": "markdown",
      "source": [
        "# CONTROL FLOW STATEMENTS: IF, ELIF, ELSE"
      ],
      "metadata": {
        "id": "GEj4wteJH5hm"
      }
    },
    {
      "cell_type": "code",
      "source": [
        "hungry = True\n",
        "if hungry:\n",
        "  print('feed me!')\n",
        "else:\n",
        "  print(\"I'm not hungry\")\n"
      ],
      "metadata": {
        "colab": {
          "base_uri": "https://localhost:8080/"
        },
        "id": "ussvdYQmIS3v",
        "outputId": "cfbd0682-af9a-4230-ea75-91f96892c359"
      },
      "execution_count": 3,
      "outputs": [
        {
          "output_type": "stream",
          "name": "stdout",
          "text": [
            "feed me!\n"
          ]
        }
      ]
    },
    {
      "cell_type": "code",
      "source": [
        "loc = 'Bank'\n",
        "\n",
        "if loc == 'AutoShop':\n",
        "  print (\"Cars are cool!\")\n",
        "elif loc == 'Bank':\n",
        "  print ('Money is cool!')\n",
        "elif loc == 'Store':\n",
        "  print ('Welcome to the store!')\n",
        "else:\n",
        "  print(\"I do not know much.\")"
      ],
      "metadata": {
        "colab": {
          "base_uri": "https://localhost:8080/"
        },
        "id": "r2O9i_Z-I37U",
        "outputId": "a29a7da5-d69b-409b-a5c7-f8b8744096ac"
      },
      "execution_count": 10,
      "outputs": [
        {
          "output_type": "stream",
          "name": "stdout",
          "text": [
            "Money is cool!\n"
          ]
        }
      ]
    },
    {
      "cell_type": "code",
      "source": [
        "name = 'Sammy'\n",
        "\n",
        "if name == 'Frankie':\n",
        "  print('Hello ' + name + '!')\n",
        "elif name == 'Sammy':\n",
        "  print('Hello ' + name + '!')\n",
        "else:\n",
        "  print('What is your name?')"
      ],
      "metadata": {
        "colab": {
          "base_uri": "https://localhost:8080/"
        },
        "id": "FvtKFoIBJ-5E",
        "outputId": "0b9c8e1d-baaa-48d8-fe4d-e08dc0cbf684"
      },
      "execution_count": 14,
      "outputs": [
        {
          "output_type": "stream",
          "name": "stdout",
          "text": [
            "Hello Sammy!\n"
          ]
        }
      ]
    },
    {
      "cell_type": "markdown",
      "source": [
        "# CONTROL FLOW STATEMENTS: FOR LOOPS"
      ],
      "metadata": {
        "id": "3qhLAYiLOmRf"
      }
    },
    {
      "cell_type": "markdown",
      "source": [
        "We can use 'For Loops' to execute a block of code for every iteration of an event"
      ],
      "metadata": {
        "id": "KiyXvxNOPGP2"
      }
    },
    {
      "cell_type": "code",
      "source": [
        "my_list = [1,2,3]\n",
        "for info in my_list:\n",
        "  print (info)"
      ],
      "metadata": {
        "colab": {
          "base_uri": "https://localhost:8080/"
        },
        "id": "21W1n41sOw2W",
        "outputId": "f2aab73b-bad5-4436-8a97-4f764d678d82"
      },
      "execution_count": 18,
      "outputs": [
        {
          "output_type": "stream",
          "name": "stdout",
          "text": [
            "1\n",
            "2\n",
            "3\n"
          ]
        }
      ]
    },
    {
      "cell_type": "code",
      "source": [
        "mylist = [1,2,3,4,5,6,7,8,9,10]"
      ],
      "metadata": {
        "id": "IeLKyW53QaV8"
      },
      "execution_count": 20,
      "outputs": []
    },
    {
      "cell_type": "code",
      "source": [
        "for numbering in mylist:\n",
        "  print(numbering)"
      ],
      "metadata": {
        "colab": {
          "base_uri": "https://localhost:8080/"
        },
        "id": "ASxbOAmWT_x9",
        "outputId": "6e5a199c-6a85-4240-cfcc-c4ad2cd6f10c"
      },
      "execution_count": 21,
      "outputs": [
        {
          "output_type": "stream",
          "name": "stdout",
          "text": [
            "1\n",
            "2\n",
            "3\n",
            "4\n",
            "5\n",
            "6\n",
            "7\n",
            "8\n",
            "9\n",
            "10\n"
          ]
        }
      ]
    },
    {
      "cell_type": "code",
      "source": [
        "for jelly in mylist:\n",
        "  print('Hello')"
      ],
      "metadata": {
        "colab": {
          "base_uri": "https://localhost:8080/"
        },
        "id": "Eg-475xkUN_c",
        "outputId": "f7facc9d-5bc9-420c-ad22-4c703a0cd9b8"
      },
      "execution_count": 22,
      "outputs": [
        {
          "output_type": "stream",
          "name": "stdout",
          "text": [
            "Hello\n",
            "Hello\n",
            "Hello\n",
            "Hello\n",
            "Hello\n",
            "Hello\n",
            "Hello\n",
            "Hello\n",
            "Hello\n",
            "Hello\n"
          ]
        }
      ]
    },
    {
      "cell_type": "code",
      "source": [
        "for even_num in mylist:\n",
        "  #check for even\n",
        "  if even_num % 2 == 0:\n",
        "    print(even_num)\n",
        "  else:\n",
        "    # using f-strings method to input odd numbers\n",
        "    print(f'Odd Number: {even_num}')"
      ],
      "metadata": {
        "colab": {
          "base_uri": "https://localhost:8080/"
        },
        "id": "l7ZCPlu4U9wv",
        "outputId": "3e60dcd7-23b2-4bc2-cd20-a096f3698953"
      },
      "execution_count": 25,
      "outputs": [
        {
          "output_type": "stream",
          "name": "stdout",
          "text": [
            "Odd Number: 1\n",
            "2\n",
            "Odd Number: 3\n",
            "4\n",
            "Odd Number: 5\n",
            "6\n",
            "Odd Number: 7\n",
            "8\n",
            "Odd Number: 9\n",
            "10\n"
          ]
        }
      ]
    },
    {
      "cell_type": "code",
      "source": [
        "list_sum = 0\n",
        "\n",
        "for num in mylist:\n",
        "  list_sum = list_sum + num\n",
        "\n",
        "# Indentation below will decide whether you see final value or all 10 values \n",
        "print(list_sum)"
      ],
      "metadata": {
        "colab": {
          "base_uri": "https://localhost:8080/"
        },
        "id": "U5YNYafeYafF",
        "outputId": "d04f73ec-85e0-4b62-a447-7a295dd4df50"
      },
      "execution_count": 35,
      "outputs": [
        {
          "output_type": "stream",
          "name": "stdout",
          "text": [
            "55\n"
          ]
        }
      ]
    },
    {
      "cell_type": "code",
      "source": [
        "mystring = 'Hello World'\n",
        "\n",
        "for letter in mystring:\n",
        "  print(letter)"
      ],
      "metadata": {
        "colab": {
          "base_uri": "https://localhost:8080/"
        },
        "id": "pS7Vxsw8aYqe",
        "outputId": "aba6024f-a3e4-4add-906c-2c9c898e5374"
      },
      "execution_count": 39,
      "outputs": [
        {
          "output_type": "stream",
          "name": "stdout",
          "text": [
            "H\n",
            "e\n",
            "l\n",
            "l\n",
            "o\n",
            " \n",
            "W\n",
            "o\n",
            "r\n",
            "l\n",
            "d\n"
          ]
        }
      ]
    },
    {
      "cell_type": "code",
      "source": [
        "tup = (1,2,3)\n",
        "\n",
        "for item in tup:\n",
        "  print (item)"
      ],
      "metadata": {
        "colab": {
          "base_uri": "https://localhost:8080/"
        },
        "id": "w6O4C09wh0Vx",
        "outputId": "c95ab1f5-e076-42d1-b2f7-3c8698dc9eae"
      },
      "execution_count": 40,
      "outputs": [
        {
          "output_type": "stream",
          "name": "stdout",
          "text": [
            "1\n",
            "2\n",
            "3\n"
          ]
        }
      ]
    },
    {
      "cell_type": "code",
      "source": [
        "mylist = [(1,2),(3,4),(5,6),(7,8)]"
      ],
      "metadata": {
        "id": "9d5kqOH7ieVZ"
      },
      "execution_count": 41,
      "outputs": []
    },
    {
      "cell_type": "code",
      "source": [
        "len(mylist)"
      ],
      "metadata": {
        "colab": {
          "base_uri": "https://localhost:8080/"
        },
        "id": "8MRngTW5i31S",
        "outputId": "8c9b13e6-2e03-446a-bb4e-29d861578945"
      },
      "execution_count": 42,
      "outputs": [
        {
          "output_type": "execute_result",
          "data": {
            "text/plain": [
              "4"
            ]
          },
          "metadata": {},
          "execution_count": 42
        }
      ]
    },
    {
      "cell_type": "code",
      "source": [
        "for item in mylist:\n",
        "  print(item)"
      ],
      "metadata": {
        "colab": {
          "base_uri": "https://localhost:8080/"
        },
        "id": "DQbHUSD5i5Xt",
        "outputId": "f0c2204c-e25f-454c-f14a-2c21195c1b9f"
      },
      "execution_count": 44,
      "outputs": [
        {
          "output_type": "stream",
          "name": "stdout",
          "text": [
            "(1, 2)\n",
            "(3, 4)\n",
            "(5, 6)\n",
            "(7, 8)\n"
          ]
        }
      ]
    },
    {
      "cell_type": "code",
      "source": [
        "for a,b in mylist:\n",
        "  print(a,b)\n",
        "  print(a)\n",
        "  print(b)"
      ],
      "metadata": {
        "colab": {
          "base_uri": "https://localhost:8080/"
        },
        "id": "V6EIQC_RjPww",
        "outputId": "47241ad0-5bfe-416a-9307-41f4f9eb4996"
      },
      "execution_count": 47,
      "outputs": [
        {
          "output_type": "stream",
          "name": "stdout",
          "text": [
            "1 2\n",
            "1\n",
            "2\n",
            "3 4\n",
            "3\n",
            "4\n",
            "5 6\n",
            "5\n",
            "6\n",
            "7 8\n",
            "7\n",
            "8\n"
          ]
        }
      ]
    },
    {
      "cell_type": "markdown",
      "source": [
        "Iterate through a dictionary"
      ],
      "metadata": {
        "id": "niYPk1i0kEe4"
      }
    },
    {
      "cell_type": "code",
      "source": [
        "# Iteration only occurs through the keys\n",
        "\n",
        "d = {'k1':1,'k2':2,'k3':3}\n",
        "\n",
        "for item in d:\n",
        "  print(item)"
      ],
      "metadata": {
        "colab": {
          "base_uri": "https://localhost:8080/"
        },
        "id": "9JIKQ2s7jc7V",
        "outputId": "9bc12c79-f782-4fd7-ade4-383eec942c61"
      },
      "execution_count": 50,
      "outputs": [
        {
          "output_type": "stream",
          "name": "stdout",
          "text": [
            "k1\n",
            "k2\n",
            "k3\n"
          ]
        }
      ]
    },
    {
      "cell_type": "code",
      "source": [
        "d = {'k1':1,'k2':2,'k3':3}\n",
        "\n",
        "for item in d.items():\n",
        "  print(item)"
      ],
      "metadata": {
        "colab": {
          "base_uri": "https://localhost:8080/"
        },
        "id": "GWg8ZcQ-mqNS",
        "outputId": "dcf70d78-9e74-4252-eda1-dbec839a19b1"
      },
      "execution_count": 51,
      "outputs": [
        {
          "output_type": "stream",
          "name": "stdout",
          "text": [
            "('k1', 1)\n",
            "('k2', 2)\n",
            "('k3', 3)\n"
          ]
        }
      ]
    },
    {
      "cell_type": "code",
      "source": [
        "d = {'k1':1,'k2':2,'k3':3}\n",
        "\n",
        "for key,value in d.items():\n",
        "  print(value)"
      ],
      "metadata": {
        "colab": {
          "base_uri": "https://localhost:8080/"
        },
        "id": "88IouUCDnJPK",
        "outputId": "8f693c33-f775-40af-bb1a-ac471e511d8b"
      },
      "execution_count": 57,
      "outputs": [
        {
          "output_type": "stream",
          "name": "stdout",
          "text": [
            "1\n",
            "2\n",
            "3\n"
          ]
        }
      ]
    },
    {
      "cell_type": "markdown",
      "source": [
        "# CONTROL FLOW STATEMENTS: WHILE LOOPS"
      ],
      "metadata": {
        "id": "KWAu1J7EovEN"
      }
    },
    {
      "cell_type": "code",
      "source": [
        "x = 0\n",
        "\n",
        "while x < 5:\n",
        "  print(f'The current value of x is {x}')\n",
        "  x = x + 1\n",
        "else:\n",
        "  print('X IS NOT LESS THAN 5')"
      ],
      "metadata": {
        "colab": {
          "base_uri": "https://localhost:8080/"
        },
        "id": "2i6IMAJNpF7o",
        "outputId": "38677ca3-21ca-4b34-a49c-62b8edb29e97"
      },
      "execution_count": 4,
      "outputs": [
        {
          "output_type": "stream",
          "name": "stdout",
          "text": [
            "The current value of x is 0\n",
            "The current value of x is 1\n",
            "The current value of x is 2\n",
            "The current value of x is 3\n",
            "The current value of x is 4\n",
            "X IS NOT LESS THAN 5\n"
          ]
        }
      ]
    },
    {
      "cell_type": "markdown",
      "source": [
        "Break, Continue & Pass"
      ],
      "metadata": {
        "id": "mBrF4jqeQt22"
      }
    },
    {
      "cell_type": "code",
      "source": [
        "# Break, Continue and Pass keywords\n",
        "# Break: Break out of the current closest enclosing loop\n",
        "# Continue: Goes to the top of the closest enclosing loop\n",
        "# Pass: Does nothing at all"
      ],
      "metadata": {
        "id": "ASZw7SXqNVA7"
      },
      "execution_count": null,
      "outputs": []
    },
    {
      "cell_type": "code",
      "source": [
        "x = [1,2,3]\n",
        "\n",
        "# normally you get an error when you don't write a statement after the 'for loop', pass keyword overrides this\n",
        "for item in x:\n",
        "  #write nothing\n",
        "  pass"
      ],
      "metadata": {
        "id": "khsS73InQy1p"
      },
      "execution_count": 7,
      "outputs": []
    },
    {
      "cell_type": "code",
      "source": [
        "# using continue keyword, usually to bypass a qualifying loop\n",
        "mystring = 'Sammy'\n",
        "\n",
        "for letter in mystring:\n",
        "  if letter == 'a':\n",
        "    continue\n",
        "  print(letter)"
      ],
      "metadata": {
        "colab": {
          "base_uri": "https://localhost:8080/"
        },
        "id": "-pQwxIIDQsNW",
        "outputId": "5622c05c-a7e9-408e-b76e-79deed16ee9d"
      },
      "execution_count": 9,
      "outputs": [
        {
          "output_type": "stream",
          "name": "stdout",
          "text": [
            "S\n",
            "m\n",
            "m\n",
            "y\n"
          ]
        }
      ]
    },
    {
      "cell_type": "code",
      "source": [
        "# using the break keyword\n",
        "mystring = 'Sammy'\n",
        "\n",
        "for letter in mystring:\n",
        "  if letter == 'a':\n",
        "    break\n",
        "  print(letter)"
      ],
      "metadata": {
        "colab": {
          "base_uri": "https://localhost:8080/"
        },
        "id": "ggcML7DtSZaA",
        "outputId": "02fee1d0-9ce1-45dc-b430-f9018e3c4ef5"
      },
      "execution_count": 10,
      "outputs": [
        {
          "output_type": "stream",
          "name": "stdout",
          "text": [
            "S\n"
          ]
        }
      ]
    },
    {
      "cell_type": "code",
      "source": [
        "# break keyword works well with 'while loop'\n",
        "x = 0\n",
        "\n",
        "while x < 5:\n",
        "  if x == 3:\n",
        "    break\n",
        "  print(x)\n",
        "  x += 1"
      ],
      "metadata": {
        "colab": {
          "base_uri": "https://localhost:8080/"
        },
        "id": "xlaqyyweTVjN",
        "outputId": "bc8c635f-50db-4feb-f793-9f23d4913af0"
      },
      "execution_count": 13,
      "outputs": [
        {
          "output_type": "stream",
          "name": "stdout",
          "text": [
            "0\n",
            "1\n",
            "2\n"
          ]
        }
      ]
    },
    {
      "cell_type": "markdown",
      "source": [
        "# USEFUL OPERATORS"
      ],
      "metadata": {
        "id": "nklpkUwnVJg9"
      }
    },
    {
      "cell_type": "markdown",
      "source": [
        "Using 'Range' keyword"
      ],
      "metadata": {
        "id": "MM0iH5dBXMbI"
      }
    },
    {
      "cell_type": "code",
      "source": [
        "mylist = [1,2,3]"
      ],
      "metadata": {
        "id": "ar0RNvU3VSFX"
      },
      "execution_count": 14,
      "outputs": []
    },
    {
      "cell_type": "code",
      "source": [
        "for num in range(10):\n",
        "  print (num)"
      ],
      "metadata": {
        "colab": {
          "base_uri": "https://localhost:8080/"
        },
        "id": "7a--QguAVbss",
        "outputId": "33812c99-f8f2-405d-afb7-3964df4e63b6"
      },
      "execution_count": 15,
      "outputs": [
        {
          "output_type": "stream",
          "name": "stdout",
          "text": [
            "0\n",
            "1\n",
            "2\n",
            "3\n",
            "4\n",
            "5\n",
            "6\n",
            "7\n",
            "8\n",
            "9\n"
          ]
        }
      ]
    },
    {
      "cell_type": "code",
      "source": [
        "for num in range(2,10):\n",
        "  print (num)"
      ],
      "metadata": {
        "colab": {
          "base_uri": "https://localhost:8080/"
        },
        "id": "EEvGEkJjVsYJ",
        "outputId": "50458f17-5f62-4ede-89d3-bbbf59bdebfa"
      },
      "execution_count": 16,
      "outputs": [
        {
          "output_type": "stream",
          "name": "stdout",
          "text": [
            "2\n",
            "3\n",
            "4\n",
            "5\n",
            "6\n",
            "7\n",
            "8\n",
            "9\n"
          ]
        }
      ]
    },
    {
      "cell_type": "code",
      "source": [
        "for num in range(0,10,2):\n",
        "  print (num)"
      ],
      "metadata": {
        "colab": {
          "base_uri": "https://localhost:8080/"
        },
        "id": "w_O4y_mPVztc",
        "outputId": "de15d878-f3bb-4716-9951-2a522bdec6c2"
      },
      "execution_count": 18,
      "outputs": [
        {
          "output_type": "stream",
          "name": "stdout",
          "text": [
            "0\n",
            "2\n",
            "4\n",
            "6\n",
            "8\n"
          ]
        }
      ]
    },
    {
      "cell_type": "code",
      "source": [
        "range(0,10,2)"
      ],
      "metadata": {
        "colab": {
          "base_uri": "https://localhost:8080/"
        },
        "id": "Tcf0fBpMV6sU",
        "outputId": "df966ff9-ea35-4e37-ad73-fc374ec79f6b"
      },
      "execution_count": 19,
      "outputs": [
        {
          "output_type": "execute_result",
          "data": {
            "text/plain": [
              "range(0, 10, 2)"
            ]
          },
          "metadata": {},
          "execution_count": 19
        }
      ]
    },
    {
      "cell_type": "code",
      "source": [
        "list(range(0,10,2))"
      ],
      "metadata": {
        "colab": {
          "base_uri": "https://localhost:8080/"
        },
        "id": "ZUEmytHMWQaW",
        "outputId": "29a9d60b-5f49-425e-db46-6db6569d4bf6"
      },
      "execution_count": 24,
      "outputs": [
        {
          "output_type": "execute_result",
          "data": {
            "text/plain": [
              "[0, 2, 4, 6, 8]"
            ]
          },
          "metadata": {},
          "execution_count": 24
        }
      ]
    },
    {
      "cell_type": "code",
      "source": [
        "tuple(range(0,10,2))"
      ],
      "metadata": {
        "colab": {
          "base_uri": "https://localhost:8080/"
        },
        "id": "OpJAldV5WShj",
        "outputId": "fbb76b46-8f06-4f1f-dd68-65f638c2c522"
      },
      "execution_count": 25,
      "outputs": [
        {
          "output_type": "execute_result",
          "data": {
            "text/plain": [
              "(0, 2, 4, 6, 8)"
            ]
          },
          "metadata": {},
          "execution_count": 25
        }
      ]
    },
    {
      "cell_type": "markdown",
      "source": [
        "Using 'Enumerate' keyword"
      ],
      "metadata": {
        "id": "6WmDd1BPXP5H"
      }
    },
    {
      "cell_type": "code",
      "source": [
        "index_count = 0\n",
        "\n",
        "for letter in 'abcde':\n",
        "  print('At index {} the letter is {}'.format (index_count,letter))\n",
        "  index_count += 1"
      ],
      "metadata": {
        "colab": {
          "base_uri": "https://localhost:8080/"
        },
        "id": "__MICuS3XPXq",
        "outputId": "af59baaa-0a7d-4d1b-ed8c-e6180f1e781f"
      },
      "execution_count": 27,
      "outputs": [
        {
          "output_type": "stream",
          "name": "stdout",
          "text": [
            "At index 0 the letter is a\n",
            "At index 1 the letter is b\n",
            "At index 2 the letter is c\n",
            "At index 3 the letter is d\n",
            "At index 4 the letter is e\n"
          ]
        }
      ]
    },
    {
      "cell_type": "code",
      "source": [
        "# An alternative to the above is:\n",
        "index_count = 0\n",
        "word = 'abcde'\n",
        "\n",
        "for letter in word:\n",
        "  print(word[index_count])\n",
        "  index_count += 1"
      ],
      "metadata": {
        "colab": {
          "base_uri": "https://localhost:8080/"
        },
        "id": "2TqUxytvYUmM",
        "outputId": "0b03e1ef-d7af-4c9d-dff7-24deb10f6851"
      },
      "execution_count": 28,
      "outputs": [
        {
          "output_type": "stream",
          "name": "stdout",
          "text": [
            "a\n",
            "b\n",
            "c\n",
            "d\n",
            "e\n"
          ]
        }
      ]
    },
    {
      "cell_type": "code",
      "source": [
        "# Enumerate function can replicate the above\n",
        "\n",
        "word = 'abcde'\n",
        "\n",
        "for index,letter in enumerate(word):\n",
        "  \n",
        "  print(index) \n",
        "  print(letter)\n",
        "  print('\\n')"
      ],
      "metadata": {
        "colab": {
          "base_uri": "https://localhost:8080/"
        },
        "id": "Y3Sg0X2pXEXO",
        "outputId": "46009152-b459-4136-94fe-377313a2c1aa"
      },
      "execution_count": 40,
      "outputs": [
        {
          "output_type": "stream",
          "name": "stdout",
          "text": [
            "0\n",
            "a\n",
            "\n",
            "\n",
            "1\n",
            "b\n",
            "\n",
            "\n",
            "2\n",
            "c\n",
            "\n",
            "\n",
            "3\n",
            "d\n",
            "\n",
            "\n",
            "4\n",
            "e\n",
            "\n",
            "\n"
          ]
        }
      ]
    },
    {
      "cell_type": "code",
      "source": [
        "# Using the zip function, opposite of enumerate"
      ],
      "metadata": {
        "id": "rMErHztrZq_H"
      },
      "execution_count": null,
      "outputs": []
    },
    {
      "cell_type": "code",
      "source": [
        "mylist1 = [1,2,3]\n",
        "mylist2 = ['a','b','c']\n",
        "\n",
        "for item in zip(mylist1,mylist2):\n",
        "  print(item)"
      ],
      "metadata": {
        "colab": {
          "base_uri": "https://localhost:8080/"
        },
        "id": "WJL7pv6lbC3P",
        "outputId": "8c10ba7f-b9d1-4f7b-d8d2-89a3efbb198c"
      },
      "execution_count": 44,
      "outputs": [
        {
          "output_type": "stream",
          "name": "stdout",
          "text": [
            "(1, 'a')\n",
            "(2, 'b')\n",
            "(3, 'c')\n"
          ]
        }
      ]
    },
    {
      "cell_type": "code",
      "source": [
        "# zip function results come out in tuples\n",
        "mylist1 = [1,2,3,4,5,6]\n",
        "mylist2 = ['a','b','c']\n",
        "mylist3 = [100,200,300]\n",
        "\n",
        "for item in zip(mylist1,mylist2,mylist3):\n",
        "  print(item)"
      ],
      "metadata": {
        "colab": {
          "base_uri": "https://localhost:8080/"
        },
        "id": "OKk7VRNLfstd",
        "outputId": "0bd4072e-3986-4374-a361-beeb3d718bc7"
      },
      "execution_count": 46,
      "outputs": [
        {
          "output_type": "stream",
          "name": "stdout",
          "text": [
            "(1, 'a', 100)\n",
            "(2, 'b', 200)\n",
            "(3, 'c', 300)\n"
          ]
        }
      ]
    },
    {
      "cell_type": "code",
      "source": [
        "list(zip(mylist1,mylist2))"
      ],
      "metadata": {
        "colab": {
          "base_uri": "https://localhost:8080/"
        },
        "id": "swyZwMMUgqt-",
        "outputId": "32d088c8-2bd4-443d-ddd2-5b89c148544c"
      },
      "execution_count": 47,
      "outputs": [
        {
          "output_type": "execute_result",
          "data": {
            "text/plain": [
              "[(1, 'a'), (2, 'b'), (3, 'c')]"
            ]
          },
          "metadata": {},
          "execution_count": 47
        }
      ]
    },
    {
      "cell_type": "markdown",
      "source": [
        "'in' operator"
      ],
      "metadata": {
        "id": "iaNcpogNhQxF"
      }
    },
    {
      "cell_type": "code",
      "source": [
        "'x' in [1,2,3]"
      ],
      "metadata": {
        "colab": {
          "base_uri": "https://localhost:8080/"
        },
        "id": "5aVI0deRhCeA",
        "outputId": "1e080699-4bba-4d8b-ca7e-9a6584bfa27b"
      },
      "execution_count": 48,
      "outputs": [
        {
          "output_type": "execute_result",
          "data": {
            "text/plain": [
              "False"
            ]
          },
          "metadata": {},
          "execution_count": 48
        }
      ]
    },
    {
      "cell_type": "code",
      "source": [
        "'x' in ['x','y','z']"
      ],
      "metadata": {
        "colab": {
          "base_uri": "https://localhost:8080/"
        },
        "id": "o99t1L4Nheuc",
        "outputId": "aac9eeb7-5fbf-46ff-b46f-094e80193b11"
      },
      "execution_count": 50,
      "outputs": [
        {
          "output_type": "execute_result",
          "data": {
            "text/plain": [
              "True"
            ]
          },
          "metadata": {},
          "execution_count": 50
        }
      ]
    },
    {
      "cell_type": "markdown",
      "source": [
        "Python Random Library"
      ],
      "metadata": {
        "id": "krpcKHZlh4Tn"
      }
    },
    {
      "cell_type": "code",
      "source": [
        "from random import shuffle"
      ],
      "metadata": {
        "id": "ZoQOnmGFhhsv"
      },
      "execution_count": 51,
      "outputs": []
    },
    {
      "cell_type": "code",
      "source": [
        "mylist = [1,2,3,4,5,6,7,8,9,10]"
      ],
      "metadata": {
        "id": "kQAofmolkmBI"
      },
      "execution_count": 52,
      "outputs": []
    },
    {
      "cell_type": "code",
      "source": [
        "shuffle(mylist)"
      ],
      "metadata": {
        "id": "ZrgPh1zxksWF"
      },
      "execution_count": 59,
      "outputs": []
    },
    {
      "cell_type": "code",
      "source": [
        "mylist"
      ],
      "metadata": {
        "colab": {
          "base_uri": "https://localhost:8080/"
        },
        "id": "W3xhBh_Qku6E",
        "outputId": "f24766a8-d443-4a0e-9ea2-a7e0029c7fef"
      },
      "execution_count": 60,
      "outputs": [
        {
          "output_type": "execute_result",
          "data": {
            "text/plain": [
              "[4, 5, 8, 9, 3, 2, 1, 10, 7, 6]"
            ]
          },
          "metadata": {},
          "execution_count": 60
        }
      ]
    },
    {
      "cell_type": "code",
      "source": [
        "from random import randint"
      ],
      "metadata": {
        "id": "GjPcFoGglABx"
      },
      "execution_count": 61,
      "outputs": []
    },
    {
      "cell_type": "code",
      "source": [
        "randint(0,100)"
      ],
      "metadata": {
        "colab": {
          "base_uri": "https://localhost:8080/"
        },
        "id": "1xj7Onzelfb4",
        "outputId": "552738da-b12c-4ea8-e973-e2a3df1501a9"
      },
      "execution_count": 64,
      "outputs": [
        {
          "output_type": "execute_result",
          "data": {
            "text/plain": [
              "93"
            ]
          },
          "metadata": {},
          "execution_count": 64
        }
      ]
    },
    {
      "cell_type": "markdown",
      "source": [
        "Input Function"
      ],
      "metadata": {
        "id": "7Bs-KYlumAi_"
      }
    },
    {
      "cell_type": "code",
      "source": [
        "result = input('Enter a number here:')"
      ],
      "metadata": {
        "colab": {
          "base_uri": "https://localhost:8080/"
        },
        "id": "_JcmJZXCllD0",
        "outputId": "fecda5f4-aef0-4318-914a-f5dd861b8a9e"
      },
      "execution_count": 67,
      "outputs": [
        {
          "name": "stdout",
          "output_type": "stream",
          "text": [
            "Enter a number here:77\n"
          ]
        }
      ]
    },
    {
      "cell_type": "code",
      "source": [
        "result"
      ],
      "metadata": {
        "colab": {
          "base_uri": "https://localhost:8080/",
          "height": 36
        },
        "id": "bRVKXwGjmQ6Z",
        "outputId": "4012ba18-bafd-4e08-f336-61fa61f53a0c"
      },
      "execution_count": 68,
      "outputs": [
        {
          "output_type": "execute_result",
          "data": {
            "text/plain": [
              "'77'"
            ],
            "application/vnd.google.colaboratory.intrinsic+json": {
              "type": "string"
            }
          },
          "metadata": {},
          "execution_count": 68
        }
      ]
    },
    {
      "cell_type": "code",
      "source": [
        "# the output for all inputs comes as string. These can be cast to number using float() or int()\n",
        "result = int(input('Enter a number here:'))"
      ],
      "metadata": {
        "colab": {
          "base_uri": "https://localhost:8080/"
        },
        "id": "DNBbdCyYmVtf",
        "outputId": "16095518-a90d-4851-d13c-a3b9f9661f98"
      },
      "execution_count": 3,
      "outputs": [
        {
          "name": "stdout",
          "output_type": "stream",
          "text": [
            "Enter a number here:77\n"
          ]
        }
      ]
    },
    {
      "cell_type": "code",
      "source": [
        "result"
      ],
      "metadata": {
        "colab": {
          "base_uri": "https://localhost:8080/"
        },
        "id": "up_if8Eca7xe",
        "outputId": "1de89d6e-892e-4ecd-879a-f2912ac57445"
      },
      "execution_count": 4,
      "outputs": [
        {
          "output_type": "execute_result",
          "data": {
            "text/plain": [
              "77"
            ]
          },
          "metadata": {},
          "execution_count": 4
        }
      ]
    },
    {
      "cell_type": "markdown",
      "source": [
        "# LIST COMPREHENSION"
      ],
      "metadata": {
        "id": "ZGKfSTJmbZkw"
      }
    },
    {
      "cell_type": "code",
      "source": [
        "mystring = 'Hello'"
      ],
      "metadata": {
        "id": "JfdBJopea-0D"
      },
      "execution_count": 5,
      "outputs": []
    },
    {
      "cell_type": "code",
      "source": [
        "comp = []\n",
        "\n",
        "for letter in mystring:\n",
        "  comp.append(letter)"
      ],
      "metadata": {
        "id": "cR0w2SJrbuLV"
      },
      "execution_count": 9,
      "outputs": []
    },
    {
      "cell_type": "code",
      "source": [
        "comp"
      ],
      "metadata": {
        "colab": {
          "base_uri": "https://localhost:8080/"
        },
        "id": "igF-QdDwb-vH",
        "outputId": "24416a67-c032-42a7-8e3d-7473ca708f1f"
      },
      "execution_count": 10,
      "outputs": [
        {
          "output_type": "execute_result",
          "data": {
            "text/plain": [
              "['H', 'e', 'l', 'l', 'o']"
            ]
          },
          "metadata": {},
          "execution_count": 10
        }
      ]
    },
    {
      "cell_type": "code",
      "source": [
        "# You can summarise the above into a simpler format code\n",
        "\n",
        "comp = [letter for letter in mystring]\n",
        "\n",
        "comp"
      ],
      "metadata": {
        "colab": {
          "base_uri": "https://localhost:8080/"
        },
        "id": "rYv3oHzycB1M",
        "outputId": "d337c075-500b-4fbd-e67c-45e6d0c4ff1a"
      },
      "execution_count": 39,
      "outputs": [
        {
          "output_type": "execute_result",
          "data": {
            "text/plain": [
              "['H', 'e', 'l', 'l', 'o']"
            ]
          },
          "metadata": {},
          "execution_count": 39
        }
      ]
    },
    {
      "cell_type": "code",
      "source": [
        "mylist = [x for x in 'word']\n",
        "\n",
        "mylist"
      ],
      "metadata": {
        "colab": {
          "base_uri": "https://localhost:8080/"
        },
        "id": "GpCi6zr5c27a",
        "outputId": "e5591efd-0961-4ad5-c38d-aed95bc54a61"
      },
      "execution_count": 40,
      "outputs": [
        {
          "output_type": "execute_result",
          "data": {
            "text/plain": [
              "['w', 'o', 'r', 'd']"
            ]
          },
          "metadata": {},
          "execution_count": 40
        }
      ]
    },
    {
      "cell_type": "code",
      "source": [
        "mylist =[x for x in range(0,11)]\n",
        "\n",
        "mylist"
      ],
      "metadata": {
        "colab": {
          "base_uri": "https://localhost:8080/"
        },
        "id": "VWgocmqvenFH",
        "outputId": "98d3f476-09a8-445f-b210-8df6a2a0a887"
      },
      "execution_count": 41,
      "outputs": [
        {
          "output_type": "execute_result",
          "data": {
            "text/plain": [
              "[0, 1, 2, 3, 4, 5, 6, 7, 8, 9, 10]"
            ]
          },
          "metadata": {},
          "execution_count": 41
        }
      ]
    },
    {
      "cell_type": "code",
      "source": [
        "# You can perform operations on the first variable name\n",
        "\n",
        "mylist =[num**2 for num in [0,1,2,3,4,5,6]]\n",
        "\n",
        "mylist"
      ],
      "metadata": {
        "colab": {
          "base_uri": "https://localhost:8080/"
        },
        "id": "SbOpN0iofDNI",
        "outputId": "a1199f81-e6b8-4bd8-c836-7265d248ac74"
      },
      "execution_count": 29,
      "outputs": [
        {
          "output_type": "execute_result",
          "data": {
            "text/plain": [
              "[0, 1, 4, 9, 16, 25, 36]"
            ]
          },
          "metadata": {},
          "execution_count": 29
        }
      ]
    },
    {
      "cell_type": "code",
      "source": [
        "# You can perform 'if' statements\n",
        "\n",
        "mylist = [x for x in range(0,11) if x%2==0]\n",
        "\n",
        "mylist"
      ],
      "metadata": {
        "colab": {
          "base_uri": "https://localhost:8080/"
        },
        "id": "TXLQ4N83fNkP",
        "outputId": "6e792e61-eb84-4e32-cae0-1074118d4b5f"
      },
      "execution_count": 28,
      "outputs": [
        {
          "output_type": "execute_result",
          "data": {
            "text/plain": [
              "[0, 2, 4, 6, 8, 10]"
            ]
          },
          "metadata": {},
          "execution_count": 28
        }
      ]
    },
    {
      "cell_type": "code",
      "source": [
        "# You can perform 'if' statements\n",
        "\n",
        "mylist = [x**2 for x in range(0,11) if x%2==0]\n",
        "\n",
        "mylist"
      ],
      "metadata": {
        "colab": {
          "base_uri": "https://localhost:8080/"
        },
        "id": "cvlLX7AxgUIu",
        "outputId": "111ac88b-92dc-4586-be45-147ef28a5ac4"
      },
      "execution_count": 27,
      "outputs": [
        {
          "output_type": "execute_result",
          "data": {
            "text/plain": [
              "[0, 4, 16, 36, 64, 100]"
            ]
          },
          "metadata": {},
          "execution_count": 27
        }
      ]
    },
    {
      "cell_type": "code",
      "source": [
        "celcius = [0,10,20,34.5]\n",
        "\n",
        "fahrenheit = [(x*(9/5) + 32) for x in celcius]\n",
        "\n",
        "fahrenheit"
      ],
      "metadata": {
        "colab": {
          "base_uri": "https://localhost:8080/"
        },
        "id": "FmKRChFIghYB",
        "outputId": "0443c610-2fd8-4f31-bfe3-e8c494de41a4"
      },
      "execution_count": 31,
      "outputs": [
        {
          "output_type": "execute_result",
          "data": {
            "text/plain": [
              "[32.0, 50.0, 68.0, 94.1]"
            ]
          },
          "metadata": {},
          "execution_count": 31
        }
      ]
    },
    {
      "cell_type": "code",
      "source": [
        "# Same can be re-written as...\n",
        "\n",
        "fahrenheit = []\n",
        "\n",
        "for x in celcius:\n",
        "  fahrenheit.append(x*(9/5) + 32)\n",
        "\n",
        "fahrenheit"
      ],
      "metadata": {
        "colab": {
          "base_uri": "https://localhost:8080/"
        },
        "id": "Tjbww1sbhycG",
        "outputId": "e6c593dc-a888-4b8e-a10a-493aeeb34769"
      },
      "execution_count": 33,
      "outputs": [
        {
          "output_type": "execute_result",
          "data": {
            "text/plain": [
              "[32.0, 50.0, 68.0, 94.1]"
            ]
          },
          "metadata": {},
          "execution_count": 33
        }
      ]
    },
    {
      "cell_type": "markdown",
      "source": [
        "If/Else in List Comprehensions"
      ],
      "metadata": {
        "id": "I_LQJ2-0jh16"
      }
    },
    {
      "cell_type": "code",
      "source": [
        "# Applying if/else in list comprehensions (one liner code) can be confusing to read\n",
        "\n",
        "results = [x if x%2==0 else 'ODD' for x in range (0,11)] #code is reverse of a normal if/else statement\n",
        "results"
      ],
      "metadata": {
        "colab": {
          "base_uri": "https://localhost:8080/"
        },
        "id": "ubAfux8Tio2J",
        "outputId": "ffc45087-dd51-4283-b0ed-216d36317350"
      },
      "execution_count": 35,
      "outputs": [
        {
          "output_type": "execute_result",
          "data": {
            "text/plain": [
              "[0, 'ODD', 2, 'ODD', 4, 'ODD', 6, 'ODD', 8, 'ODD', 10]"
            ]
          },
          "metadata": {},
          "execution_count": 35
        }
      ]
    },
    {
      "cell_type": "markdown",
      "source": [
        "Nested Loop in List Comprehensions"
      ],
      "metadata": {
        "id": "MUM8rU6GljI7"
      }
    },
    {
      "cell_type": "code",
      "source": [
        "mylist = []\n",
        "\n",
        "for x in [2,4,6]:\n",
        "  for y in [1,10,100]:\n",
        "    mylist.append(x*y)\n",
        "    \n",
        "mylist"
      ],
      "metadata": {
        "colab": {
          "base_uri": "https://localhost:8080/"
        },
        "id": "8cTeV059k3WE",
        "outputId": "29bfd88d-af90-4668-d61d-59d4833ee5b8"
      },
      "execution_count": 37,
      "outputs": [
        {
          "output_type": "execute_result",
          "data": {
            "text/plain": [
              "[2, 20, 200, 4, 40, 400, 6, 60, 600]"
            ]
          },
          "metadata": {},
          "execution_count": 37
        }
      ]
    },
    {
      "cell_type": "code",
      "source": [
        "# The above can be simplified with a list comprehension\n",
        "\n",
        "mylist = [x*y for x in [2,4,6] for y in [1,10,100]]\n",
        "\n",
        "mylist"
      ],
      "metadata": {
        "colab": {
          "base_uri": "https://localhost:8080/"
        },
        "id": "WOOLh0EPmUN_",
        "outputId": "b67f6217-8781-4090-ce7c-6900ee8fa25a"
      },
      "execution_count": 38,
      "outputs": [
        {
          "output_type": "execute_result",
          "data": {
            "text/plain": [
              "[2, 20, 200, 4, 40, 400, 6, 60, 600]"
            ]
          },
          "metadata": {},
          "execution_count": 38
        }
      ]
    },
    {
      "cell_type": "code",
      "source": [],
      "metadata": {
        "id": "Jw7KpGcNnIFT"
      },
      "execution_count": null,
      "outputs": []
    }
  ]
}