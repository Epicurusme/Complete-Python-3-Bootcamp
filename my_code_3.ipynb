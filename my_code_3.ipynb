{
  "nbformat": 4,
  "nbformat_minor": 0,
  "metadata": {
    "colab": {
      "provenance": [],
      "toc_visible": true,
      "authorship_tag": "ABX9TyMMOt9hB0q7knO1I3znLxtY",
      "include_colab_link": true
    },
    "kernelspec": {
      "name": "python3",
      "display_name": "Python 3"
    },
    "language_info": {
      "name": "python"
    }
  },
  "cells": [
    {
      "cell_type": "markdown",
      "metadata": {
        "id": "view-in-github",
        "colab_type": "text"
      },
      "source": [
        "<a href=\"https://colab.research.google.com/github/Epicurusme/Complete-Python-3-Bootcamp/blob/master/my_code_3.ipynb\" target=\"_parent\"><img src=\"https://colab.research.google.com/assets/colab-badge.svg\" alt=\"Open In Colab\"/></a>"
      ]
    },
    {
      "cell_type": "markdown",
      "source": [
        "# METHODS AND THE PYTHON DOCUMENTATION"
      ],
      "metadata": {
        "id": "fForQV86WH7e"
      }
    },
    {
      "cell_type": "markdown",
      "source": [
        "**Python documentation can be found in the Python standard library (https://docs.python.org/3/library/)**"
      ],
      "metadata": {
        "id": "D0KdG8ugYqDV"
      }
    },
    {
      "cell_type": "markdown",
      "source": [
        "**You can also get basic info of built-in functions, using help()**"
      ],
      "metadata": {
        "id": "UAWEdTZMY-BX"
      }
    },
    {
      "cell_type": "code",
      "execution_count": null,
      "metadata": {
        "id": "A1ro2UutVsMT"
      },
      "outputs": [],
      "source": [
        "mylist = [1,2,3]"
      ]
    },
    {
      "cell_type": "code",
      "source": [
        "mylist.append(4)\n",
        "mylist"
      ],
      "metadata": {
        "colab": {
          "base_uri": "https://localhost:8080/"
        },
        "id": "i69D5wpTZO1C",
        "outputId": "6b561ce6-01b3-4740-bae5-66014282a49e"
      },
      "execution_count": null,
      "outputs": [
        {
          "output_type": "execute_result",
          "data": {
            "text/plain": [
              "[1, 2, 3, 4]"
            ]
          },
          "metadata": {},
          "execution_count": 12
        }
      ]
    },
    {
      "cell_type": "code",
      "source": [
        "help(mylist.append)"
      ],
      "metadata": {
        "colab": {
          "base_uri": "https://localhost:8080/"
        },
        "id": "XotFKw7CZXma",
        "outputId": "17c86dc3-33b5-4677-f4d4-856ff33e27a9"
      },
      "execution_count": null,
      "outputs": [
        {
          "output_type": "stream",
          "name": "stdout",
          "text": [
            "Help on built-in function append:\n",
            "\n",
            "append(object, /) method of builtins.list instance\n",
            "    Append object to the end of the list.\n",
            "\n"
          ]
        }
      ]
    },
    {
      "cell_type": "code",
      "source": [
        "help(mylist.insert)"
      ],
      "metadata": {
        "colab": {
          "base_uri": "https://localhost:8080/"
        },
        "id": "i7IWBvV2WkVf",
        "outputId": "63dc62aa-0e21-4a77-91f8-eddecd999801"
      },
      "execution_count": null,
      "outputs": [
        {
          "output_type": "stream",
          "name": "stdout",
          "text": [
            "Help on built-in function insert:\n",
            "\n",
            "insert(index, object, /) method of builtins.list instance\n",
            "    Insert object before index.\n",
            "\n"
          ]
        }
      ]
    },
    {
      "cell_type": "code",
      "source": [
        "help(mylist.clear)"
      ],
      "metadata": {
        "colab": {
          "base_uri": "https://localhost:8080/"
        },
        "id": "gXuTxEQxW1B2",
        "outputId": "9547e715-6dd8-4828-d075-aeb28665c436"
      },
      "execution_count": null,
      "outputs": [
        {
          "output_type": "stream",
          "name": "stdout",
          "text": [
            "Help on built-in function clear:\n",
            "\n",
            "clear() method of builtins.list instance\n",
            "    Remove all items from list.\n",
            "\n"
          ]
        }
      ]
    },
    {
      "cell_type": "markdown",
      "source": [
        "# FUNCTIONS"
      ],
      "metadata": {
        "id": "Mn7DlyE3Zx7K"
      }
    },
    {
      "cell_type": "markdown",
      "source": [
        "**Functions allow us to create blocks of code that can be easily executed many times, without the need to constantly re-write.**"
      ],
      "metadata": {
        "id": "fxppcwDBZ7Ze"
      }
    },
    {
      "cell_type": "code",
      "source": [
        "# 'def' keyword: Allows the creation of function in Python.\n",
        "\n",
        "# def name_of_funtion():\n",
        "#   '''\n",
        "#   docstring explains function\n",
        "#   '''\n",
        "#   print(\"Hello\")\n",
        "\n",
        "#>>name of funtion()\n",
        "#>>Hello\n",
        "\n",
        "\n",
        "# name = \"James\"\n",
        "# def name_of_funtion(name):\n",
        "#   '''\n",
        "#   docstring explains function\n",
        "#   '''\n",
        "#   print(\"Hello\" + name)\n",
        "\n",
        "#>>name of funtion(\"James\")\n",
        "#>>Hello James\n"
      ],
      "metadata": {
        "id": "j3OQniDKW_VF"
      },
      "execution_count": null,
      "outputs": []
    },
    {
      "cell_type": "code",
      "source": [
        "def say_hello():\n",
        "  print(\"Hello Pal!\")\n",
        "  print(\"How are ya?\")\n",
        "  print(\"Good to see ya!\")"
      ],
      "metadata": {
        "id": "vP4-2qnLciHJ"
      },
      "execution_count": null,
      "outputs": []
    },
    {
      "cell_type": "code",
      "source": [
        "say_hello()"
      ],
      "metadata": {
        "colab": {
          "base_uri": "https://localhost:8080/"
        },
        "id": "eYmzDpCDe81G",
        "outputId": "5b7c72ad-7ee3-4a6d-9fbf-00a2e98a67b6"
      },
      "execution_count": null,
      "outputs": [
        {
          "output_type": "stream",
          "name": "stdout",
          "text": [
            "Hello Pal!\n",
            "How are ya?\n",
            "Good to see ya!\n"
          ]
        }
      ]
    },
    {
      "cell_type": "code",
      "source": [
        "def say_hello(name):\n",
        "  print(f'Hello {name}')"
      ],
      "metadata": {
        "id": "R6uMla00e-af"
      },
      "execution_count": null,
      "outputs": []
    },
    {
      "cell_type": "code",
      "source": [
        "say_hello(\"Ola\")"
      ],
      "metadata": {
        "colab": {
          "base_uri": "https://localhost:8080/"
        },
        "id": "mqPvuemLf_hZ",
        "outputId": "9d4d59d2-895f-4c9a-eceb-24fa995631e6"
      },
      "execution_count": null,
      "outputs": [
        {
          "output_type": "stream",
          "name": "stdout",
          "text": [
            "Hello Ola\n"
          ]
        }
      ]
    },
    {
      "cell_type": "code",
      "source": [
        "def say_hello(name = 'Default'): # adding default value\n",
        "  print(f'Hello {name}')"
      ],
      "metadata": {
        "id": "_qXrQDWggQiU"
      },
      "execution_count": null,
      "outputs": []
    },
    {
      "cell_type": "code",
      "source": [
        "say_hello() # no name given in parentesis so default name is given in output"
      ],
      "metadata": {
        "colab": {
          "base_uri": "https://localhost:8080/"
        },
        "id": "Us4NSGYGghAp",
        "outputId": "06adf568-7037-48f4-9966-50c01e74afad"
      },
      "execution_count": null,
      "outputs": [
        {
          "output_type": "stream",
          "name": "stdout",
          "text": [
            "Hello Default\n"
          ]
        }
      ]
    },
    {
      "cell_type": "markdown",
      "source": [
        "**Using the Return function**"
      ],
      "metadata": {
        "id": "lI5mFIUqs1nN"
      }
    },
    {
      "cell_type": "code",
      "source": [
        "def add_num(num1,num2):\n",
        "  return num1 + num2"
      ],
      "metadata": {
        "id": "Pp5ztg68givg"
      },
      "execution_count": null,
      "outputs": []
    },
    {
      "cell_type": "code",
      "source": [
        "results = add_num(4,7) # Return allows you to assign a variable name to the function. No need to print"
      ],
      "metadata": {
        "id": "1cRfRUBNtHM1"
      },
      "execution_count": null,
      "outputs": []
    },
    {
      "cell_type": "code",
      "source": [
        "results"
      ],
      "metadata": {
        "colab": {
          "base_uri": "https://localhost:8080/"
        },
        "id": "b_l7fjZktNFx",
        "outputId": "e1bb1f73-0145-4254-d239-6d0048a17e60"
      },
      "execution_count": null,
      "outputs": [
        {
          "output_type": "execute_result",
          "data": {
            "text/plain": [
              "11"
            ]
          },
          "metadata": {},
          "execution_count": 35
        }
      ]
    },
    {
      "cell_type": "code",
      "source": [
        "def print_results(a,b):\n",
        "  print(a+b)"
      ],
      "metadata": {
        "id": "PaP9PMH0tSjF"
      },
      "execution_count": null,
      "outputs": []
    },
    {
      "cell_type": "code",
      "source": [
        "def return_results(a,b):\n",
        "  return a+b\n"
      ],
      "metadata": {
        "id": "4t-NczcJtu3T"
      },
      "execution_count": null,
      "outputs": []
    },
    {
      "cell_type": "code",
      "source": [
        "print_results(10,20) # you can't assign and save a variable to this"
      ],
      "metadata": {
        "colab": {
          "base_uri": "https://localhost:8080/"
        },
        "id": "x6tEn7QGt9oe",
        "outputId": "7d7acf6c-a392-43a9-df5e-27c0030d0a8a"
      },
      "execution_count": null,
      "outputs": [
        {
          "output_type": "stream",
          "name": "stdout",
          "text": [
            "30\n"
          ]
        }
      ]
    },
    {
      "cell_type": "code",
      "source": [
        "results = return_results(10,20) # you can assign and save a variable to this\n",
        "\n",
        "results"
      ],
      "metadata": {
        "colab": {
          "base_uri": "https://localhost:8080/"
        },
        "id": "cZ1VSUPIuChi",
        "outputId": "a9be1c6f-2291-4a84-bb09-784013fbf311"
      },
      "execution_count": null,
      "outputs": [
        {
          "output_type": "execute_result",
          "data": {
            "text/plain": [
              "30"
            ]
          },
          "metadata": {},
          "execution_count": 40
        }
      ]
    },
    {
      "cell_type": "markdown",
      "source": [
        "# FUNCTIONS WITH LOGIC"
      ],
      "metadata": {
        "id": "r0z9m2XfvVer"
      }
    },
    {
      "cell_type": "code",
      "source": [
        "def even_check(number):\n",
        "  return number % 2 == 0"
      ],
      "metadata": {
        "id": "GMA26JpKuLcr"
      },
      "execution_count": null,
      "outputs": []
    },
    {
      "cell_type": "code",
      "source": [
        "even_check(10)"
      ],
      "metadata": {
        "colab": {
          "base_uri": "https://localhost:8080/"
        },
        "id": "v_amYtrewTeG",
        "outputId": "1dc41059-567b-4225-af56-49b007badeca"
      },
      "execution_count": null,
      "outputs": [
        {
          "output_type": "execute_result",
          "data": {
            "text/plain": [
              "True"
            ]
          },
          "metadata": {},
          "execution_count": 48
        }
      ]
    },
    {
      "cell_type": "code",
      "source": [
        "# Return true if any number is even inside a list\n",
        "\n",
        "def check_even_list(num_list):\n",
        "\n",
        "  for x in num_list:\n",
        "    if x % 2 == 0:\n",
        "      return True\n",
        "    else:\n",
        "      pass\n",
        "  return False # The Return for the alternate output is indented with the 'for' loop"
      ],
      "metadata": {
        "id": "VZfgDkdCwYLO"
      },
      "execution_count": null,
      "outputs": []
    },
    {
      "cell_type": "code",
      "source": [
        "check_even_list([1,3])"
      ],
      "metadata": {
        "colab": {
          "base_uri": "https://localhost:8080/"
        },
        "id": "NFptcSinxi0B",
        "outputId": "492d1cec-2532-4cbf-d1ca-5a03e0d1cb7f"
      },
      "execution_count": null,
      "outputs": [
        {
          "output_type": "execute_result",
          "data": {
            "text/plain": [
              "False"
            ]
          },
          "metadata": {},
          "execution_count": 61
        }
      ]
    },
    {
      "cell_type": "code",
      "source": [
        "# Return all the even numbers in a list\n",
        "\n",
        "def return_even_list(num_list):\n",
        "\n",
        "# Placeholder variable\n",
        "  even_numbers = []\n",
        "\n",
        "  for x in num_list:\n",
        "    if x % 2 == 0:\n",
        "      even_numbers.append(x)      \n",
        "    else:\n",
        "      pass\n",
        "\n",
        "  return even_numbers"
      ],
      "metadata": {
        "id": "5b5n8C2axxXN"
      },
      "execution_count": null,
      "outputs": []
    },
    {
      "cell_type": "code",
      "source": [
        "return_even_list([1,2,3,4,5,6,7,8,9,10])"
      ],
      "metadata": {
        "colab": {
          "base_uri": "https://localhost:8080/"
        },
        "id": "2EPs_bu6zYh9",
        "outputId": "b9eea8bc-af12-4a06-8baa-ab57f8c10434"
      },
      "execution_count": null,
      "outputs": [
        {
          "output_type": "execute_result",
          "data": {
            "text/plain": [
              "[2, 4, 6, 8, 10]"
            ]
          },
          "metadata": {},
          "execution_count": 66
        }
      ]
    },
    {
      "cell_type": "markdown",
      "source": [
        "# TUPLE UNPACKING WITH PYTHON FUNCTIONS"
      ],
      "metadata": {
        "id": "jLgkEPL80_pB"
      }
    },
    {
      "cell_type": "markdown",
      "source": [
        "**Functions and returning multiple items from a funtion with Tuple Unpacking**"
      ],
      "metadata": {
        "id": "odeQItiB1JXy"
      }
    },
    {
      "cell_type": "code",
      "source": [
        "stock_prices = [('APPL',200),('GOOG',400),('MSFT',100)]"
      ],
      "metadata": {
        "id": "o6ZxL21ezcCL"
      },
      "execution_count": null,
      "outputs": []
    },
    {
      "cell_type": "code",
      "source": [
        "for item in stock_prices:\n",
        "  print(item)"
      ],
      "metadata": {
        "colab": {
          "base_uri": "https://localhost:8080/"
        },
        "id": "FK2zoz5T1wvr",
        "outputId": "a8e46452-aec6-4c28-fcb5-7e55c3482ce8"
      },
      "execution_count": null,
      "outputs": [
        {
          "output_type": "stream",
          "name": "stdout",
          "text": [
            "('APPL', 200)\n",
            "('GOOG', 400)\n",
            "('MSFT', 100)\n"
          ]
        }
      ]
    },
    {
      "cell_type": "code",
      "source": [
        "for ticker,price in stock_prices:\n",
        "  print(ticker)"
      ],
      "metadata": {
        "colab": {
          "base_uri": "https://localhost:8080/"
        },
        "id": "9k5tTE1E12IS",
        "outputId": "06038150-b6a1-4160-f0dc-e3d5896dffc2"
      },
      "execution_count": null,
      "outputs": [
        {
          "output_type": "stream",
          "name": "stdout",
          "text": [
            "APPL\n",
            "GOOG\n",
            "MSFT\n"
          ]
        }
      ]
    },
    {
      "cell_type": "code",
      "source": [
        "for ticker,price in stock_prices:\n",
        "  print(ticker + \" - \" + str(price))"
      ],
      "metadata": {
        "colab": {
          "base_uri": "https://localhost:8080/"
        },
        "id": "5mTieRlT2DOL",
        "outputId": "79380358-48ec-4b07-f0e5-f2742066d050"
      },
      "execution_count": null,
      "outputs": [
        {
          "output_type": "stream",
          "name": "stdout",
          "text": [
            "APPL - 200\n",
            "GOOG - 400\n",
            "MSFT - 100\n"
          ]
        }
      ]
    },
    {
      "cell_type": "code",
      "source": [
        "# Unpacking with functions...\n",
        "\n",
        "work_hours = [('Abby',44),('Billy',50),('Cassie',60),('Danny',40)]"
      ],
      "metadata": {
        "id": "lcvR0Fdd2LSc"
      },
      "execution_count": null,
      "outputs": []
    },
    {
      "cell_type": "code",
      "source": [
        "def employee_check(work_hours):\n",
        "\n",
        "  current_max = 0\n",
        "  employee_of_month = ''\n",
        "\n",
        "  for employee,hours in work_hours:\n",
        "    if hours > current_max:\n",
        "      current_max = hours\n",
        "      employee_of_month = employee\n",
        "    else:\n",
        "      pass\n",
        "\n",
        "\n",
        "  # Return\n",
        "  return (employee_of_month,current_max)\n"
      ],
      "metadata": {
        "id": "PEg1PL0V3dvf"
      },
      "execution_count": null,
      "outputs": []
    },
    {
      "cell_type": "code",
      "source": [
        "list(employee_check(work_hours))"
      ],
      "metadata": {
        "colab": {
          "base_uri": "https://localhost:8080/"
        },
        "id": "hRZi2cF85FWL",
        "outputId": "b9ba9583-4904-4ce7-f20e-62d7eeb29498"
      },
      "execution_count": null,
      "outputs": [
        {
          "output_type": "execute_result",
          "data": {
            "text/plain": [
              "['Cassie', 60]"
            ]
          },
          "metadata": {},
          "execution_count": 98
        }
      ]
    },
    {
      "cell_type": "code",
      "source": [
        "a,b = employee_check(work_hours)"
      ],
      "metadata": {
        "id": "Pp_gQzRb5L2q"
      },
      "execution_count": null,
      "outputs": []
    },
    {
      "cell_type": "code",
      "source": [
        "a"
      ],
      "metadata": {
        "colab": {
          "base_uri": "https://localhost:8080/",
          "height": 36
        },
        "id": "o8k-UXDw6qUD",
        "outputId": "87369375-d0f6-4d4c-f5c8-1d3514e5f328"
      },
      "execution_count": null,
      "outputs": [
        {
          "output_type": "execute_result",
          "data": {
            "text/plain": [
              "'Cassie'"
            ],
            "application/vnd.google.colaboratory.intrinsic+json": {
              "type": "string"
            }
          },
          "metadata": {},
          "execution_count": 100
        }
      ]
    },
    {
      "cell_type": "code",
      "source": [
        "b"
      ],
      "metadata": {
        "colab": {
          "base_uri": "https://localhost:8080/"
        },
        "id": "-xYQJ4d-6sTe",
        "outputId": "791080d2-050c-45ff-ffbc-27e5eeee8ee0"
      },
      "execution_count": null,
      "outputs": [
        {
          "output_type": "execute_result",
          "data": {
            "text/plain": [
              "60"
            ]
          },
          "metadata": {},
          "execution_count": 101
        }
      ]
    },
    {
      "cell_type": "code",
      "source": [
        "name,hours = employee_check(work_hours)"
      ],
      "metadata": {
        "id": "TnJ2npM46tTF"
      },
      "execution_count": null,
      "outputs": []
    },
    {
      "cell_type": "code",
      "source": [
        "name"
      ],
      "metadata": {
        "colab": {
          "base_uri": "https://localhost:8080/",
          "height": 36
        },
        "id": "xkazOMjD7DgS",
        "outputId": "a5875b31-18fa-4ace-aa92-aaa3b40fb5ce"
      },
      "execution_count": null,
      "outputs": [
        {
          "output_type": "execute_result",
          "data": {
            "text/plain": [
              "'Cassie'"
            ],
            "application/vnd.google.colaboratory.intrinsic+json": {
              "type": "string"
            }
          },
          "metadata": {},
          "execution_count": 103
        }
      ]
    },
    {
      "cell_type": "code",
      "source": [
        "hours"
      ],
      "metadata": {
        "colab": {
          "base_uri": "https://localhost:8080/"
        },
        "id": "JIw85e5k7EzR",
        "outputId": "6bfb3ca5-a239-41e1-a9c7-740430b6af39"
      },
      "execution_count": null,
      "outputs": [
        {
          "output_type": "execute_result",
          "data": {
            "text/plain": [
              "60"
            ]
          },
          "metadata": {},
          "execution_count": 104
        }
      ]
    },
    {
      "cell_type": "markdown",
      "source": [
        "# INTERACTION BETWEEN PYTHON FUNCTIONS"
      ],
      "metadata": {
        "id": "6pzJ_jwt7ngy"
      }
    },
    {
      "cell_type": "markdown",
      "source": [
        "**How multiple functions interact with each other in returning objects to each other**"
      ],
      "metadata": {
        "id": "Z_qe0h978Mq7"
      }
    },
    {
      "cell_type": "code",
      "source": [
        "# Guessing game..."
      ],
      "metadata": {
        "id": "7CLdH3ZD8_Gp"
      },
      "execution_count": null,
      "outputs": []
    },
    {
      "cell_type": "code",
      "source": [
        "example = [1,2,3,4,5,6,7]"
      ],
      "metadata": {
        "id": "vkh4LSP_7F1G"
      },
      "execution_count": null,
      "outputs": []
    },
    {
      "cell_type": "code",
      "source": [
        "from random import shuffle"
      ],
      "metadata": {
        "id": "Dcy5ixkj8nix"
      },
      "execution_count": null,
      "outputs": []
    },
    {
      "cell_type": "code",
      "source": [
        "mylist = [' ','O',' ']\n",
        "\n",
        "shuffle_list(mylist)"
      ],
      "metadata": {
        "colab": {
          "base_uri": "https://localhost:8080/"
        },
        "id": "CVrQjL9J9fKd",
        "outputId": "0997f73a-f927-486e-c0ed-07deadc3e013"
      },
      "execution_count": null,
      "outputs": [
        {
          "output_type": "execute_result",
          "data": {
            "text/plain": [
              "[' ', 'O', ' ']"
            ]
          },
          "metadata": {},
          "execution_count": 142
        }
      ]
    },
    {
      "cell_type": "code",
      "source": [
        "def player_guess():\n",
        "\n",
        "  guess = ''\n",
        "\n",
        "  while guess not in ['0','1','2']:\n",
        "    guess = input(\"Pick a number: 0, 1 or 2: \")\n",
        "\n",
        "  return int(guess)\n",
        "  "
      ],
      "metadata": {
        "id": "un83X3bF-BVp"
      },
      "execution_count": null,
      "outputs": []
    },
    {
      "cell_type": "code",
      "source": [
        "player_guess()"
      ],
      "metadata": {
        "colab": {
          "base_uri": "https://localhost:8080/"
        },
        "id": "RAnZbt14_KfO",
        "outputId": "408c6267-32f7-429b-d579-dcc4a2cf8b34"
      },
      "execution_count": null,
      "outputs": [
        {
          "name": "stdout",
          "output_type": "stream",
          "text": [
            "Pick a number: 0, 1 or 2: 7\n",
            "Pick a number: 0, 1 or 2: 1\n"
          ]
        },
        {
          "output_type": "execute_result",
          "data": {
            "text/plain": [
              "1"
            ]
          },
          "metadata": {},
          "execution_count": 131
        }
      ]
    },
    {
      "cell_type": "code",
      "source": [
        "myindex = player_guess()"
      ],
      "metadata": {
        "colab": {
          "base_uri": "https://localhost:8080/"
        },
        "id": "azC7eB5m_OtT",
        "outputId": "03aff624-0941-4ec2-df00-b7f2ce671324"
      },
      "execution_count": null,
      "outputs": [
        {
          "name": "stdout",
          "output_type": "stream",
          "text": [
            "Pick a number: 0, 1 or 2: 2\n"
          ]
        }
      ]
    },
    {
      "cell_type": "code",
      "source": [
        "myindex"
      ],
      "metadata": {
        "colab": {
          "base_uri": "https://localhost:8080/"
        },
        "id": "0Yu0qlap_mjZ",
        "outputId": "83bd1da6-fb26-40b6-d131-b94d378f8d6f"
      },
      "execution_count": null,
      "outputs": [
        {
          "output_type": "execute_result",
          "data": {
            "text/plain": [
              "2"
            ]
          },
          "metadata": {},
          "execution_count": 133
        }
      ]
    },
    {
      "cell_type": "code",
      "source": [
        "def check_guess(mylist,guess):\n",
        "  if mylist[guess] == \"O\":\n",
        "    print(\"Correct!\")\n",
        "  else:\n",
        "    print(\"Wrong guess!\")\n",
        "    print(mylist)"
      ],
      "metadata": {
        "id": "v9ZgEq2N_tGf"
      },
      "execution_count": null,
      "outputs": []
    },
    {
      "cell_type": "code",
      "source": [
        "# INITIAL LIST\n",
        "mylist = [' ','O',' ']\n",
        "\n",
        "# SHUFFLE LIST\n",
        "mixedup_list = shuffle_list(mylist)\n",
        "\n",
        "# USER GUESS\n",
        "guess = player_guess()\n",
        "\n",
        "# CHECK GUESS\n",
        "check_guess(mixedup_list,guess)"
      ],
      "metadata": {
        "colab": {
          "base_uri": "https://localhost:8080/"
        },
        "id": "EPY7KIi8AhG5",
        "outputId": "cce533f5-18fb-4550-eb7e-71658d6ee86a"
      },
      "execution_count": null,
      "outputs": [
        {
          "output_type": "stream",
          "name": "stdout",
          "text": [
            "Pick a number: 0, 1 or 2: 0\n",
            "Correct!\n"
          ]
        }
      ]
    },
    {
      "cell_type": "markdown",
      "source": [
        "# ARGS AND KWARGS"
      ],
      "metadata": {
        "id": "_F1eFUZpf4aH"
      }
    },
    {
      "cell_type": "markdown",
      "source": [
        "ARGS"
      ],
      "metadata": {
        "id": "RPYPz0oYgco0"
      }
    },
    {
      "cell_type": "code",
      "source": [
        "# *args are useful for arguments that with imputs that you don't want limited\n",
        "\n",
        "def myfunc(*args): # args is an arbitary keyword, it could be anything\n",
        "  return sum(args)\n",
        "\n",
        "myfunc(2,3,4)"
      ],
      "metadata": {
        "colab": {
          "base_uri": "https://localhost:8080/"
        },
        "id": "JD899SZ7eQON",
        "outputId": "81bed17c-f4a1-45c3-eea4-0b28228f6a16"
      },
      "execution_count": null,
      "outputs": [
        {
          "output_type": "execute_result",
          "data": {
            "text/plain": [
              "9"
            ]
          },
          "metadata": {},
          "execution_count": 4
        }
      ]
    },
    {
      "cell_type": "code",
      "source": [
        "# *args give a back a tuple for the argument\n",
        "def myfunc(*args):\n",
        "  print(args)\n",
        "    \n",
        "\n",
        "myfunc(2,3,4)"
      ],
      "metadata": {
        "colab": {
          "base_uri": "https://localhost:8080/"
        },
        "id": "vV-zKL0mesUt",
        "outputId": "a129be34-7379-44b7-8cb0-84029bc697cd"
      },
      "execution_count": null,
      "outputs": [
        {
          "output_type": "stream",
          "name": "stdout",
          "text": [
            "(2, 3, 4)\n"
          ]
        }
      ]
    },
    {
      "cell_type": "code",
      "source": [
        "# *args give a back a tuple for the argument\n",
        "def myfunc(*args):\n",
        "  for x in (args):\n",
        "    print(x)\n",
        "\n",
        "myfunc(2,3,4)"
      ],
      "metadata": {
        "colab": {
          "base_uri": "https://localhost:8080/"
        },
        "id": "zr1vh6_rfOE0",
        "outputId": "51987b39-a30b-4645-d9a1-40f6664d2177"
      },
      "execution_count": null,
      "outputs": [
        {
          "output_type": "stream",
          "name": "stdout",
          "text": [
            "2\n",
            "3\n",
            "4\n"
          ]
        }
      ]
    },
    {
      "cell_type": "markdown",
      "source": [
        "KWARGS"
      ],
      "metadata": {
        "id": "lqg9UeUJggrl"
      }
    },
    {
      "cell_type": "code",
      "source": [
        "def myfunc(**kwargs): # kwargs is an arbitary keyword, it could be anything\n",
        "  if 'fruit' in kwargs:\n",
        "    print('My fruit of choice is {}'.format(kwargs['fruit']))\n",
        "  else:\n",
        "    print('My fruit is missing')\n",
        "\n",
        "myfunc(fruit = 'apple')"
      ],
      "metadata": {
        "colab": {
          "base_uri": "https://localhost:8080/"
        },
        "id": "H7HZ3fi3fdRy",
        "outputId": "b0550d4b-25b3-4ab4-87af-c5cd6e54eb87"
      },
      "execution_count": 1,
      "outputs": [
        {
          "output_type": "stream",
          "name": "stdout",
          "text": [
            "My fruit of choice is apple\n"
          ]
        }
      ]
    },
    {
      "cell_type": "code",
      "source": [
        "# printing out the dictionary\n",
        "\n",
        "def myfunc(**kwargs):\n",
        "  print(kwargs)\n",
        "  if 'fruit' in kwargs:\n",
        "    print('My veg of choice is {}'.format(kwargs['veg']))\n",
        "  else:\n",
        "    print('My veg is missing')\n",
        "\n",
        "myfunc(fruit = 'apple', veg = 'lettuce')"
      ],
      "metadata": {
        "id": "Wb4q85eNhWMj",
        "colab": {
          "base_uri": "https://localhost:8080/"
        },
        "outputId": "accbe364-1c0e-40ce-f943-5a43e3988221"
      },
      "execution_count": 5,
      "outputs": [
        {
          "output_type": "stream",
          "name": "stdout",
          "text": [
            "{'fruit': 'apple', 'veg': 'lettuce'}\n",
            "My veg of choice is lettuce\n"
          ]
        }
      ]
    },
    {
      "cell_type": "code",
      "source": [
        "# args and kwargs can be combined\n",
        "def myfunc(*args,**kwargs):\n",
        "  print(args)\n",
        "  print(kwargs)\n",
        "  print('I would like {} {}'.format(args[2],kwargs['food']))\n",
        "\n",
        "myfunc(10,20,30,fruit='orange',food='hamburgers',animal='dog')"
      ],
      "metadata": {
        "colab": {
          "base_uri": "https://localhost:8080/"
        },
        "id": "eqhfI9ll4hbQ",
        "outputId": "2ead4ef3-5bb2-4d54-ac00-47b2eeddfa6b"
      },
      "execution_count": 26,
      "outputs": [
        {
          "output_type": "stream",
          "name": "stdout",
          "text": [
            "(10, 20, 30)\n",
            "{'fruit': 'orange', 'food': 'hamburgers', 'animal': 'dog'}\n",
            "I would like 30 hamburgers\n"
          ]
        }
      ]
    }
  ]
}