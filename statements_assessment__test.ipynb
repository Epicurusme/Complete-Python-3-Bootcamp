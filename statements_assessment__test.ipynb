{
  "nbformat": 4,
  "nbformat_minor": 0,
  "metadata": {
    "colab": {
      "provenance": [],
      "toc_visible": true,
      "authorship_tag": "ABX9TyO2LKGT+9eXyCimNlm8BYb/",
      "include_colab_link": true
    },
    "kernelspec": {
      "name": "python3",
      "display_name": "Python 3"
    },
    "language_info": {
      "name": "python"
    }
  },
  "cells": [
    {
      "cell_type": "markdown",
      "metadata": {
        "id": "view-in-github",
        "colab_type": "text"
      },
      "source": [
        "<a href=\"https://colab.research.google.com/github/Epicurusme/Complete-Python-3-Bootcamp/blob/master/statements_assessment__test.ipynb\" target=\"_parent\"><img src=\"https://colab.research.google.com/assets/colab-badge.svg\" alt=\"Open In Colab\"/></a>"
      ]
    },
    {
      "cell_type": "markdown",
      "source": [
        "# Statements Assessment Test"
      ],
      "metadata": {
        "id": "UsCECqmU9XSe"
      }
    },
    {
      "cell_type": "markdown",
      "source": [
        "**Use for, .split(), and if to create a Statement that will print out words that start with 's':**"
      ],
      "metadata": {
        "id": "2SK3Eo5i9f80"
      }
    },
    {
      "cell_type": "code",
      "execution_count": 82,
      "metadata": {
        "id": "svKQ-0Gd9Mh2"
      },
      "outputs": [],
      "source": [
        "st = 'Print only the words that start with s in this sentence'"
      ]
    },
    {
      "cell_type": "code",
      "source": [
        "# Solution 1\n",
        "\n",
        "for x in st.split():\n",
        "  if x[0] == 's':\n",
        "    print(x)"
      ],
      "metadata": {
        "colab": {
          "base_uri": "https://localhost:8080/"
        },
        "id": "-b5K2yVe95Rf",
        "outputId": "e8ceb697-e77c-47cd-e3d3-3c6c5c6bf7cd"
      },
      "execution_count": null,
      "outputs": [
        {
          "output_type": "stream",
          "name": "stdout",
          "text": [
            "start\n",
            "s\n",
            "sentence\n"
          ]
        }
      ]
    },
    {
      "cell_type": "code",
      "source": [
        "# Solution 2, list comprehension\n",
        "\n",
        "[x for x in st.split() if x[0] == 's']"
      ],
      "metadata": {
        "colab": {
          "base_uri": "https://localhost:8080/"
        },
        "id": "qkVWhVuu-ZHB",
        "outputId": "4dd018aa-a074-4700-96d2-dc300e0bab47"
      },
      "execution_count": 83,
      "outputs": [
        {
          "output_type": "execute_result",
          "data": {
            "text/plain": [
              "['start', 's', 'sentence']"
            ]
          },
          "metadata": {},
          "execution_count": 83
        }
      ]
    },
    {
      "cell_type": "markdown",
      "source": [
        "**Use range() to print all the even numbers from 0 to 10.**"
      ],
      "metadata": {
        "id": "qqcS0KjFFgIE"
      }
    },
    {
      "cell_type": "code",
      "source": [
        "list(range(0,11,2))"
      ],
      "metadata": {
        "colab": {
          "base_uri": "https://localhost:8080/"
        },
        "id": "mGWAhxmpD937",
        "outputId": "a5f0e718-f9b9-4c35-844a-e4a3a3cad910"
      },
      "execution_count": null,
      "outputs": [
        {
          "output_type": "execute_result",
          "data": {
            "text/plain": [
              "[0, 2, 4, 6, 8, 10]"
            ]
          },
          "metadata": {},
          "execution_count": 42
        }
      ]
    },
    {
      "cell_type": "markdown",
      "source": [
        "**Use List comprehension to create a list of all numbers between 1 and 50 that are divisible by 3.**"
      ],
      "metadata": {
        "id": "ZR95DkOQHOn5"
      }
    },
    {
      "cell_type": "code",
      "source": [
        "# Best Solution\n",
        "\n",
        "[num for num in range(1,51) if num%3 == 0]"
      ],
      "metadata": {
        "colab": {
          "base_uri": "https://localhost:8080/"
        },
        "id": "QZ2l6lGaFn-o",
        "outputId": "703bb2d4-8ddd-48d2-def1-1c5cf5f00220"
      },
      "execution_count": 51,
      "outputs": [
        {
          "output_type": "execute_result",
          "data": {
            "text/plain": [
              "[3, 6, 9, 12, 15, 18, 21, 24, 27, 30, 33, 36, 39, 42, 45, 48]"
            ]
          },
          "metadata": {},
          "execution_count": 51
        }
      ]
    },
    {
      "cell_type": "code",
      "source": [
        "# Other Solution 1\n",
        "\n",
        "div3 = [num for num in range(1,51) if num%3 == 0]\n",
        "\n",
        "div3"
      ],
      "metadata": {
        "colab": {
          "base_uri": "https://localhost:8080/"
        },
        "id": "MdxJWSi8Hs8s",
        "outputId": "80aca619-c224-4553-ad92-9aac9ecfdda5"
      },
      "execution_count": 52,
      "outputs": [
        {
          "output_type": "execute_result",
          "data": {
            "text/plain": [
              "[3, 6, 9, 12, 15, 18, 21, 24, 27, 30, 33, 36, 39, 42, 45, 48]"
            ]
          },
          "metadata": {},
          "execution_count": 52
        }
      ]
    },
    {
      "cell_type": "code",
      "source": [
        "# Other Solution 2\n",
        "\n",
        "for num in range(1,51):\n",
        "  if num%3 == 0:\n",
        "    print(num)"
      ],
      "metadata": {
        "id": "A4TMqVQKH7n8",
        "colab": {
          "base_uri": "https://localhost:8080/"
        },
        "outputId": "25bd974b-f155-4d88-d892-6758d1200c34"
      },
      "execution_count": 53,
      "outputs": [
        {
          "output_type": "stream",
          "name": "stdout",
          "text": [
            "3\n",
            "6\n",
            "9\n",
            "12\n",
            "15\n",
            "18\n",
            "21\n",
            "24\n",
            "27\n",
            "30\n",
            "33\n",
            "36\n",
            "39\n",
            "42\n",
            "45\n",
            "48\n"
          ]
        }
      ]
    },
    {
      "cell_type": "markdown",
      "source": [
        "**Go through the string below and if the length of a word is even print \"even!\"**"
      ],
      "metadata": {
        "id": "N57KXpnpLLfc"
      }
    },
    {
      "cell_type": "code",
      "source": [
        "st = 'Print every word in this sentence that has an even number of letters'"
      ],
      "metadata": {
        "id": "_JzlBOz5LG4F"
      },
      "execution_count": 84,
      "outputs": []
    },
    {
      "cell_type": "code",
      "source": [
        "for x in st.split():\n",
        "  if len(x) % 2 == 0: \n",
        "    print (x + ' -- even')\n",
        "  else:\n",
        "    print (x)"
      ],
      "metadata": {
        "colab": {
          "base_uri": "https://localhost:8080/"
        },
        "id": "CkiQA7p9LREg",
        "outputId": "12b3679e-4a32-487b-d823-3156989a5267"
      },
      "execution_count": 85,
      "outputs": [
        {
          "output_type": "stream",
          "name": "stdout",
          "text": [
            "Print\n",
            "every\n",
            "word -- even\n",
            "in -- even\n",
            "this -- even\n",
            "sentence -- even\n",
            "that -- even\n",
            "has\n",
            "an -- even\n",
            "even -- even\n",
            "number -- even\n",
            "of -- even\n",
            "letters\n"
          ]
        }
      ]
    },
    {
      "cell_type": "markdown",
      "source": [
        "**Write a program that prints the integers from 1 to 100. But for multiples of three print \"Fizz\" instead of the number, and for the multiples of five print \"Buzz\". For numbers which are multiples of both three and five print \"FizzBuzz\".**"
      ],
      "metadata": {
        "id": "AfWO0Ay8NzYF"
      }
    },
    {
      "cell_type": "code",
      "source": [
        "for x in range(1,101):\n",
        "  if x % 3 == 0 and x % 5 == 0:\n",
        "    print(str(x) + \" -- FizzBuzz\")\n",
        "  elif x % 3 == 0:\n",
        "    print(str(x) + \" -- Fizz\")\n",
        "  elif x % 5 == 0:\n",
        "    print(str(x) + \" -- Buzz\")\n",
        "  else:\n",
        "    print(x)"
      ],
      "metadata": {
        "colab": {
          "base_uri": "https://localhost:8080/"
        },
        "id": "0UInZFR0Lf76",
        "outputId": "ba5c013a-f20a-463e-d427-1db6a60f3cfd"
      },
      "execution_count": 86,
      "outputs": [
        {
          "output_type": "stream",
          "name": "stdout",
          "text": [
            "1\n",
            "2\n",
            "3 -- Fizz\n",
            "4\n",
            "5 -- Buzz\n",
            "6 -- Fizz\n",
            "7\n",
            "8\n",
            "9 -- Fizz\n",
            "10 -- Buzz\n",
            "11\n",
            "12 -- Fizz\n",
            "13\n",
            "14\n",
            "15 -- FizzBuzz\n",
            "16\n",
            "17\n",
            "18 -- Fizz\n",
            "19\n",
            "20 -- Buzz\n",
            "21 -- Fizz\n",
            "22\n",
            "23\n",
            "24 -- Fizz\n",
            "25 -- Buzz\n",
            "26\n",
            "27 -- Fizz\n",
            "28\n",
            "29\n",
            "30 -- FizzBuzz\n",
            "31\n",
            "32\n",
            "33 -- Fizz\n",
            "34\n",
            "35 -- Buzz\n",
            "36 -- Fizz\n",
            "37\n",
            "38\n",
            "39 -- Fizz\n",
            "40 -- Buzz\n",
            "41\n",
            "42 -- Fizz\n",
            "43\n",
            "44\n",
            "45 -- FizzBuzz\n",
            "46\n",
            "47\n",
            "48 -- Fizz\n",
            "49\n",
            "50 -- Buzz\n",
            "51 -- Fizz\n",
            "52\n",
            "53\n",
            "54 -- Fizz\n",
            "55 -- Buzz\n",
            "56\n",
            "57 -- Fizz\n",
            "58\n",
            "59\n",
            "60 -- FizzBuzz\n",
            "61\n",
            "62\n",
            "63 -- Fizz\n",
            "64\n",
            "65 -- Buzz\n",
            "66 -- Fizz\n",
            "67\n",
            "68\n",
            "69 -- Fizz\n",
            "70 -- Buzz\n",
            "71\n",
            "72 -- Fizz\n",
            "73\n",
            "74\n",
            "75 -- FizzBuzz\n",
            "76\n",
            "77\n",
            "78 -- Fizz\n",
            "79\n",
            "80 -- Buzz\n",
            "81 -- Fizz\n",
            "82\n",
            "83\n",
            "84 -- Fizz\n",
            "85 -- Buzz\n",
            "86\n",
            "87 -- Fizz\n",
            "88\n",
            "89\n",
            "90 -- FizzBuzz\n",
            "91\n",
            "92\n",
            "93 -- Fizz\n",
            "94\n",
            "95 -- Buzz\n",
            "96 -- Fizz\n",
            "97\n",
            "98\n",
            "99 -- Fizz\n",
            "100 -- Buzz\n"
          ]
        }
      ]
    },
    {
      "cell_type": "markdown",
      "source": [
        "**Use a List Comprehension to create a list of the first letters of every word in the string below:**"
      ],
      "metadata": {
        "id": "dtSPwbymPjS9"
      }
    },
    {
      "cell_type": "code",
      "source": [
        "st = 'Create a list of the first letters of every word in this string'"
      ],
      "metadata": {
        "id": "jCSu3UkqOAEr"
      },
      "execution_count": 71,
      "outputs": []
    },
    {
      "cell_type": "code",
      "source": [
        "[x[0] for x in st.split()]"
      ],
      "metadata": {
        "colab": {
          "base_uri": "https://localhost:8080/"
        },
        "id": "iqGFtMH6Py_t",
        "outputId": "edc68f79-fa69-44a4-fa69-2e43642906a6"
      },
      "execution_count": 76,
      "outputs": [
        {
          "output_type": "execute_result",
          "data": {
            "text/plain": [
              "['C', 'a', 'l', 'o', 't', 'f', 'l', 'o', 'e', 'w', 'i', 't', 's']"
            ]
          },
          "metadata": {},
          "execution_count": 76
        }
      ]
    },
    {
      "cell_type": "code",
      "source": [],
      "metadata": {
        "id": "RxLQ18xdQPPD"
      },
      "execution_count": null,
      "outputs": []
    }
  ]
}