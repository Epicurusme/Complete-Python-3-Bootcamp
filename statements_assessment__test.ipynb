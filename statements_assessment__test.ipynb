{
  "nbformat": 4,
  "nbformat_minor": 0,
  "metadata": {
    "colab": {
      "provenance": [],
      "toc_visible": true,
      "authorship_tag": "ABX9TyNecfxG+0OVCxRMCgj54EJN",
      "include_colab_link": true
    },
    "kernelspec": {
      "name": "python3",
      "display_name": "Python 3"
    },
    "language_info": {
      "name": "python"
    }
  },
  "cells": [
    {
      "cell_type": "markdown",
      "metadata": {
        "id": "view-in-github",
        "colab_type": "text"
      },
      "source": [
        "<a href=\"https://colab.research.google.com/github/Epicurusme/Complete-Python-3-Bootcamp/blob/master/statements_assessment__test.ipynb\" target=\"_parent\"><img src=\"https://colab.research.google.com/assets/colab-badge.svg\" alt=\"Open In Colab\"/></a>"
      ]
    },
    {
      "cell_type": "markdown",
      "source": [
        "# Statements Assessment Test"
      ],
      "metadata": {
        "id": "UsCECqmU9XSe"
      }
    },
    {
      "cell_type": "markdown",
      "source": [
        "**Use for, .split(), and if to create a Statement that will print out words that start with 's':**"
      ],
      "metadata": {
        "id": "2SK3Eo5i9f80"
      }
    },
    {
      "cell_type": "code",
      "execution_count": 1,
      "metadata": {
        "id": "svKQ-0Gd9Mh2"
      },
      "outputs": [],
      "source": [
        "st = 'Print only the words that start with s in this sentence'"
      ]
    },
    {
      "cell_type": "code",
      "source": [
        "st1 = st.split()"
      ],
      "metadata": {
        "id": "uzfX954U9k6N"
      },
      "execution_count": 17,
      "outputs": []
    },
    {
      "cell_type": "code",
      "source": [
        "# Solution 1\n",
        "\n",
        "for x in st.split():\n",
        "  if x[0] == 's':\n",
        "    print(x)"
      ],
      "metadata": {
        "colab": {
          "base_uri": "https://localhost:8080/"
        },
        "id": "-b5K2yVe95Rf",
        "outputId": "e8ceb697-e77c-47cd-e3d3-3c6c5c6bf7cd"
      },
      "execution_count": 28,
      "outputs": [
        {
          "output_type": "stream",
          "name": "stdout",
          "text": [
            "start\n",
            "s\n",
            "sentence\n"
          ]
        }
      ]
    },
    {
      "cell_type": "code",
      "source": [
        "# Solution 2\n",
        "\n",
        "for x in st1:\n",
        "  if x[0] == 's':\n",
        "    print(x)"
      ],
      "metadata": {
        "colab": {
          "base_uri": "https://localhost:8080/"
        },
        "id": "qkVWhVuu-ZHB",
        "outputId": "08ebd7e1-6e18-4c20-e1a8-a207c3622805"
      },
      "execution_count": 29,
      "outputs": [
        {
          "output_type": "stream",
          "name": "stdout",
          "text": [
            "start\n",
            "s\n",
            "sentence\n"
          ]
        }
      ]
    },
    {
      "cell_type": "markdown",
      "source": [
        "**Use range() to print all the even numbers from 0 to 10.**"
      ],
      "metadata": {
        "id": "qqcS0KjFFgIE"
      }
    },
    {
      "cell_type": "code",
      "source": [
        "list(range(0,11,2))"
      ],
      "metadata": {
        "colab": {
          "base_uri": "https://localhost:8080/"
        },
        "id": "mGWAhxmpD937",
        "outputId": "a5f0e718-f9b9-4c35-844a-e4a3a3cad910"
      },
      "execution_count": 42,
      "outputs": [
        {
          "output_type": "execute_result",
          "data": {
            "text/plain": [
              "[0, 2, 4, 6, 8, 10]"
            ]
          },
          "metadata": {},
          "execution_count": 42
        }
      ]
    },
    {
      "cell_type": "markdown",
      "source": [
        "**Use List comprehension to create a list of all numbers between 1 and 50 that are divisible by 3.**"
      ],
      "metadata": {
        "id": "ZR95DkOQHOn5"
      }
    },
    {
      "cell_type": "code",
      "source": [
        "# Best Solution\n",
        "\n",
        "[num for num in range(1,51) if num%3 == 0]"
      ],
      "metadata": {
        "colab": {
          "base_uri": "https://localhost:8080/"
        },
        "id": "ubdvg5ISI2se",
        "outputId": "4b7f421d-b3aa-4bc3-f18c-0a9069f35c92"
      },
      "execution_count": 50,
      "outputs": [
        {
          "output_type": "execute_result",
          "data": {
            "text/plain": [
              "[3, 6, 9, 12, 15, 18, 21, 24, 27, 30, 33, 36, 39, 42, 45, 48]"
            ]
          },
          "metadata": {},
          "execution_count": 50
        }
      ]
    },
    {
      "cell_type": "code",
      "source": [
        "# Other Solution 1\n",
        "\n",
        "div3 = [num for num in range(1,51) if num%3 == 0]\n",
        "\n",
        "div3"
      ],
      "metadata": {
        "colab": {
          "base_uri": "https://localhost:8080/"
        },
        "id": "MdxJWSi8Hs8s",
        "outputId": "e55d6ec0-cb12-4b90-c831-2125f594c86a"
      },
      "execution_count": 49,
      "outputs": [
        {
          "output_type": "execute_result",
          "data": {
            "text/plain": [
              "[3, 6, 9, 12, 15, 18, 21, 24, 27, 30, 33, 36, 39, 42, 45, 48]"
            ]
          },
          "metadata": {},
          "execution_count": 49
        }
      ]
    },
    {
      "cell_type": "code",
      "source": [
        "# Other Solution 2\n",
        "\n",
        "for num in range(1,51):\n",
        "  if num%3 == 0:\n",
        "    print(num)\n"
      ],
      "metadata": {
        "colab": {
          "base_uri": "https://localhost:8080/"
        },
        "id": "QZ2l6lGaFn-o",
        "outputId": "18df7b28-5dd4-4634-e4b2-b4b8e54dd2e6"
      },
      "execution_count": 43,
      "outputs": [
        {
          "output_type": "stream",
          "name": "stdout",
          "text": [
            "3\n",
            "6\n",
            "9\n",
            "12\n",
            "15\n",
            "18\n",
            "21\n",
            "24\n",
            "27\n",
            "30\n",
            "33\n",
            "36\n",
            "39\n",
            "42\n",
            "45\n",
            "48\n"
          ]
        }
      ]
    },
    {
      "cell_type": "markdown",
      "source": [
        "**Go through the string below and if the length of a word is even print \"even!\"**"
      ],
      "metadata": {
        "id": "_PRZjGUHJRDC"
      }
    },
    {
      "cell_type": "code",
      "source": [
        "st = 'Print every word in this sentence that has an even number of letters'"
      ],
      "metadata": {
        "id": "A4TMqVQKH7n8"
      },
      "execution_count": null,
      "outputs": []
    }
  ]
}