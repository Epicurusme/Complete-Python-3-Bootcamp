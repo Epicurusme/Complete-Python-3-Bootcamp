{
  "nbformat": 4,
  "nbformat_minor": 0,
  "metadata": {
    "colab": {
      "provenance": [],
      "toc_visible": true,
      "authorship_tag": "ABX9TyP0qt6681VDwhoqE5zca0Hi",
      "include_colab_link": true
    },
    "kernelspec": {
      "name": "python3",
      "display_name": "Python 3"
    },
    "language_info": {
      "name": "python"
    }
  },
  "cells": [
    {
      "cell_type": "markdown",
      "metadata": {
        "id": "view-in-github",
        "colab_type": "text"
      },
      "source": [
        "<a href=\"https://colab.research.google.com/github/Epicurusme/Complete-Python-3-Bootcamp/blob/master/Function_Practice_Problems.ipynb\" target=\"_parent\"><img src=\"https://colab.research.google.com/assets/colab-badge.svg\" alt=\"Open In Colab\"/></a>"
      ]
    },
    {
      "cell_type": "code",
      "execution_count": null,
      "metadata": {
        "id": "VkUaQdkbE8EN"
      },
      "outputs": [],
      "source": []
    },
    {
      "cell_type": "markdown",
      "source": [
        "# LESSER OF TWO EVENS: WARM UP"
      ],
      "metadata": {
        "id": "ydm9JuCRFJhE"
      }
    },
    {
      "cell_type": "markdown",
      "source": [
        "Write a function that returns the lesser of two given numbers if both numbers are even, but returns the greater if one or both numbers are odd"
      ],
      "metadata": {
        "id": "dqCc0OCHFggz"
      }
    },
    {
      "cell_type": "code",
      "source": [
        "# for example, lesser_of_two_evens(2,4) --> 2\n",
        "# for example, lesser_of_two_evens(2,5) --> 5"
      ],
      "metadata": {
        "id": "R_r4kmRMFkst"
      },
      "execution_count": null,
      "outputs": []
    },
    {
      "cell_type": "code",
      "source": [
        "def lesser_of_two_evens(a,b):\n",
        "  if a % 2 == 0 and b % 2 == 0:\n",
        "    # BOTH NUMBERS ARE EVEN!\n",
        "    return min(a,b)\n",
        "  else:\n",
        "    # AT LEAST ONE OF THE NUMBERS ARE ODD!\n",
        "    return max(a,b)\n",
        "\n",
        "lesser_of_two_evens(5,8)\n"
      ],
      "metadata": {
        "colab": {
          "base_uri": "https://localhost:8080/"
        },
        "id": "iyxaGdtgI7Xs",
        "outputId": "d0d1712a-0418-4e5d-ff35-c6e51a78267f"
      },
      "execution_count": 1,
      "outputs": [
        {
          "output_type": "execute_result",
          "data": {
            "text/plain": [
              "8"
            ]
          },
          "metadata": {},
          "execution_count": 1
        }
      ]
    },
    {
      "cell_type": "code",
      "source": [
        "lesser_of_two_evens(6,8)"
      ],
      "metadata": {
        "colab": {
          "base_uri": "https://localhost:8080/"
        },
        "id": "buv4mO0JI7N1",
        "outputId": "f4f2251f-81fd-447f-b757-9dc931de73fc"
      },
      "execution_count": 2,
      "outputs": [
        {
          "output_type": "execute_result",
          "data": {
            "text/plain": [
              "6"
            ]
          },
          "metadata": {},
          "execution_count": 2
        }
      ]
    },
    {
      "cell_type": "markdown",
      "source": [
        "# ANIMAL CRACKERS: WARM UP"
      ],
      "metadata": {
        "id": "BAcGBrYHFojS"
      }
    },
    {
      "cell_type": "markdown",
      "source": [
        "Write a function takes a two-word string and returns True if both words begin with same letter"
      ],
      "metadata": {
        "id": "3-hEhqaMFzo4"
      }
    },
    {
      "cell_type": "code",
      "source": [
        "# animal_crackers('Levelheaded Llama') --> True\n",
        "# animal_crackers('Crazy Kangaroo') --> False"
      ],
      "metadata": {
        "id": "QF6tPvlMF933"
      },
      "execution_count": null,
      "outputs": []
    },
    {
      "cell_type": "code",
      "source": [
        "def animal_crackers(text):\n",
        "  x = text.split()\n",
        "  print(x)\n",
        "\n",
        "  first = x[0]\n",
        "  second = x[1]\n",
        "\n",
        "  return x[0][0] == x[1][0]\n",
        "\n",
        "animal_crackers('Levelheaded Llama')"
      ],
      "metadata": {
        "colab": {
          "base_uri": "https://localhost:8080/"
        },
        "id": "xdguNlnMJ1Ci",
        "outputId": "119638ad-7701-4273-a2cf-3baaff0b112b"
      },
      "execution_count": 15,
      "outputs": [
        {
          "output_type": "stream",
          "name": "stdout",
          "text": [
            "['Levelheaded', 'Llama']\n"
          ]
        },
        {
          "output_type": "execute_result",
          "data": {
            "text/plain": [
              "True"
            ]
          },
          "metadata": {},
          "execution_count": 15
        }
      ]
    },
    {
      "cell_type": "code",
      "source": [
        "animal_crackers('Crazy Kangaroo')"
      ],
      "metadata": {
        "colab": {
          "base_uri": "https://localhost:8080/"
        },
        "id": "lXboWo21J0zm",
        "outputId": "81b2c0f1-f8a0-407b-eb8d-b208f16a7dfb"
      },
      "execution_count": 16,
      "outputs": [
        {
          "output_type": "stream",
          "name": "stdout",
          "text": [
            "['Crazy', 'Kangaroo']\n"
          ]
        },
        {
          "output_type": "execute_result",
          "data": {
            "text/plain": [
              "False"
            ]
          },
          "metadata": {},
          "execution_count": 16
        }
      ]
    },
    {
      "cell_type": "markdown",
      "source": [
        "# MAKES TWENTY: WARM UP"
      ],
      "metadata": {
        "id": "2X8S7dmIF2NR"
      }
    },
    {
      "cell_type": "markdown",
      "source": [
        "Given two integers, return True if the sum of the integers is 20 or if one of the integers is 20. If not, return False"
      ],
      "metadata": {
        "id": "z_SOXr2VF_cS"
      }
    },
    {
      "cell_type": "code",
      "source": [
        "# makes_twenty(20,10) --> True\n",
        "# makes_twenty(12,8) --> True\n",
        "# makes_twenty(2,3) --> False"
      ],
      "metadata": {
        "id": "Gzb_B4KvF1OD"
      },
      "execution_count": null,
      "outputs": []
    },
    {
      "cell_type": "code",
      "source": [
        "def makes_twenty(n1,n2):\n",
        "  if n1 + n2 == 20 or n1 == 20 or n2 == 20:\n",
        "    return True\n",
        "  else:\n",
        "    return False"
      ],
      "metadata": {
        "id": "9s9nc0FNK0Vm"
      },
      "execution_count": 17,
      "outputs": []
    },
    {
      "cell_type": "code",
      "source": [
        "# Best solution:\n",
        "\n",
        "def makes_twenty(n1,n2):\n",
        "  return (n1 + n2) == 20 or n1 == 20 or n2 == 20"
      ],
      "metadata": {
        "id": "0E8zqJYdVRrD"
      },
      "execution_count": 19,
      "outputs": []
    },
    {
      "cell_type": "code",
      "source": [
        "makes_twenty(20,10)"
      ],
      "metadata": {
        "colab": {
          "base_uri": "https://localhost:8080/"
        },
        "id": "e76EI8HqVK2U",
        "outputId": "2d099114-edde-4c45-cff9-bbcd055c5d90"
      },
      "execution_count": 20,
      "outputs": [
        {
          "output_type": "execute_result",
          "data": {
            "text/plain": [
              "True"
            ]
          },
          "metadata": {},
          "execution_count": 20
        }
      ]
    },
    {
      "cell_type": "code",
      "source": [
        "makes_twenty(2,3)"
      ],
      "metadata": {
        "colab": {
          "base_uri": "https://localhost:8080/"
        },
        "id": "Ahj9HcOnLV5f",
        "outputId": "bb90198f-814a-4f8a-ebd0-f8933ec6fad6"
      },
      "execution_count": 21,
      "outputs": [
        {
          "output_type": "execute_result",
          "data": {
            "text/plain": [
              "False"
            ]
          },
          "metadata": {},
          "execution_count": 21
        }
      ]
    },
    {
      "cell_type": "markdown",
      "source": [
        "# OLD MACDONALD: LEVEL 1"
      ],
      "metadata": {
        "id": "oJojRsQaGBJL"
      }
    },
    {
      "cell_type": "markdown",
      "source": [
        "Write a function that capitalizes the first and fourth letters of a name"
      ],
      "metadata": {
        "id": "qXarZfHhGNHr"
      }
    },
    {
      "cell_type": "code",
      "source": [
        "# old_macdonald('macdonald') --> MacDonald"
      ],
      "metadata": {
        "id": "Ss8P4mgfGOGB"
      },
      "execution_count": null,
      "outputs": []
    },
    {
      "cell_type": "markdown",
      "source": [
        "Note: 'macdonald'.capitalize() returns 'Macdonald'"
      ],
      "metadata": {
        "id": "IP2WPZzPNTFb"
      }
    },
    {
      "cell_type": "code",
      "source": [
        "def old_macdonald(name):\n",
        "  \n",
        "  first_letter = name[0]\n",
        "  inbetween = name[1:3]\n",
        "  fourth_letter = name[3]\n",
        "  rest = name[4:]\n",
        "\n",
        "  return first_letter.upper() + inbetween + fourth_letter.upper() + rest\n"
      ],
      "metadata": {
        "id": "FnIr0j_ELyrw"
      },
      "execution_count": 26,
      "outputs": []
    },
    {
      "cell_type": "code",
      "source": [
        "# Better Solution:\n",
        "\n",
        "def old_macdonald(name):\n",
        "  \n",
        "  first_half = name[:3]\n",
        "  second_half = name[3:]\n",
        "\n",
        "  return first_half.capitalize() + second_half.capitalize()"
      ],
      "metadata": {
        "id": "x9b5Qh_zW_wp"
      },
      "execution_count": 36,
      "outputs": []
    },
    {
      "cell_type": "code",
      "source": [
        "old_macdonald('macdonald')"
      ],
      "metadata": {
        "colab": {
          "base_uri": "https://localhost:8080/",
          "height": 36
        },
        "id": "WmbnU0jzVz5Y",
        "outputId": "64252778-8ecf-4312-87a4-3d8201032eff"
      },
      "execution_count": 37,
      "outputs": [
        {
          "output_type": "execute_result",
          "data": {
            "text/plain": [
              "'MacDonald'"
            ],
            "application/vnd.google.colaboratory.intrinsic+json": {
              "type": "string"
            }
          },
          "metadata": {},
          "execution_count": 37
        }
      ]
    },
    {
      "cell_type": "markdown",
      "source": [
        "# MASTER YODA: LEVEL 1"
      ],
      "metadata": {
        "id": "__c-KsxsGPBj"
      }
    },
    {
      "cell_type": "markdown",
      "source": [
        "Given a sentence, return a sentence with the words reversed"
      ],
      "metadata": {
        "id": "7LuvKq_jGnRE"
      }
    },
    {
      "cell_type": "code",
      "source": [
        "# master_yoda('I am home') --> 'home am I'\n",
        "# master_yoda('We are ready') --> 'ready are We'"
      ],
      "metadata": {
        "id": "4CYlwsCZMQJb"
      },
      "execution_count": null,
      "outputs": []
    },
    {
      "cell_type": "markdown",
      "source": [
        "Note: The .join() method may be useful here. The .join() method allows you to join together strings in a list with some connector string. For example, some uses of the .join() method:\n",
        "\n",
        ">>> \"--\".join(['a','b','c'])\n",
        "\n",
        ">>> 'a--b--c'\n",
        "\n",
        "This means if you had a list of words you wanted to turn back into a sentence, you could just join them with a single space string:\n",
        "\n",
        ">>> \" \".join(['Hello','world'])\n",
        "\n",
        ">>> \"Hello world\""
      ],
      "metadata": {
        "id": "Z0HekMvUMXde"
      }
    },
    {
      "cell_type": "code",
      "source": [
        "def master_yoda(text):\n",
        "  x = text.split()\n",
        "  return \" \".join(x[::-1])\n"
      ],
      "metadata": {
        "id": "OZPTKFjJGoi1"
      },
      "execution_count": 41,
      "outputs": []
    },
    {
      "cell_type": "code",
      "source": [
        "master_yoda('I am home')"
      ],
      "metadata": {
        "colab": {
          "base_uri": "https://localhost:8080/",
          "height": 36
        },
        "id": "vRAGlZUCV4JK",
        "outputId": "e2384772-ae9a-4aec-a795-1ddb47331d5b"
      },
      "execution_count": 42,
      "outputs": [
        {
          "output_type": "execute_result",
          "data": {
            "text/plain": [
              "'home am I'"
            ],
            "application/vnd.google.colaboratory.intrinsic+json": {
              "type": "string"
            }
          },
          "metadata": {},
          "execution_count": 42
        }
      ]
    },
    {
      "cell_type": "code",
      "source": [
        "master_yoda('We are ready')"
      ],
      "metadata": {
        "colab": {
          "base_uri": "https://localhost:8080/",
          "height": 36
        },
        "id": "6m-fgBljNC2A",
        "outputId": "09d8fcb8-938d-4ae7-fdce-e3add7724118"
      },
      "execution_count": 43,
      "outputs": [
        {
          "output_type": "execute_result",
          "data": {
            "text/plain": [
              "'ready are We'"
            ],
            "application/vnd.google.colaboratory.intrinsic+json": {
              "type": "string"
            }
          },
          "metadata": {},
          "execution_count": 43
        }
      ]
    },
    {
      "cell_type": "markdown",
      "source": [
        "# ALMOST THERE: LEVEL 1"
      ],
      "metadata": {
        "id": "CsQ4d2FjGpYj"
      }
    },
    {
      "cell_type": "markdown",
      "source": [
        "Given an integer n, return True if n is within 10 of either 100 or 200"
      ],
      "metadata": {
        "id": "OmHV6r-bG3Wd"
      }
    },
    {
      "cell_type": "code",
      "source": [
        "# almost_there(90) --> True\n",
        "# almost_there(104) --> True\n",
        "# almost_there(150) --> False\n",
        "# almost_there(209) --> True"
      ],
      "metadata": {
        "id": "ynm37eBSG4O6"
      },
      "execution_count": null,
      "outputs": []
    },
    {
      "cell_type": "markdown",
      "source": [
        "NOTE: abs(num) returns the absolute value of a number"
      ],
      "metadata": {
        "id": "AiJjVzcxN5m0"
      }
    },
    {
      "cell_type": "code",
      "source": [
        "def almost_there(n):\n",
        "\n",
        "  return (abs(100-n) <= 10) or (abs(200-n) <= 10)\n"
      ],
      "metadata": {
        "id": "fCX3UKnANgR6"
      },
      "execution_count": 52,
      "outputs": []
    },
    {
      "cell_type": "code",
      "source": [
        "almost_there(104)"
      ],
      "metadata": {
        "colab": {
          "base_uri": "https://localhost:8080/"
        },
        "id": "1vCD-7dENz-T",
        "outputId": "88230023-fb98-45f5-e4eb-d57ed0ddbed6"
      },
      "execution_count": 49,
      "outputs": [
        {
          "output_type": "execute_result",
          "data": {
            "text/plain": [
              "True"
            ]
          },
          "metadata": {},
          "execution_count": 49
        }
      ]
    },
    {
      "cell_type": "code",
      "source": [
        "almost_there(150)"
      ],
      "metadata": {
        "colab": {
          "base_uri": "https://localhost:8080/"
        },
        "id": "vdf078JEYR_t",
        "outputId": "c1f75b85-0554-42af-d301-a984da063d77"
      },
      "execution_count": 53,
      "outputs": [
        {
          "output_type": "execute_result",
          "data": {
            "text/plain": [
              "False"
            ]
          },
          "metadata": {},
          "execution_count": 53
        }
      ]
    },
    {
      "cell_type": "code",
      "source": [
        "almost_there(209)"
      ],
      "metadata": {
        "colab": {
          "base_uri": "https://localhost:8080/"
        },
        "id": "9FYT7jVdNz4P",
        "outputId": "820c94e0-522a-4afa-ddf7-73aea24876ea"
      },
      "execution_count": 51,
      "outputs": [
        {
          "output_type": "execute_result",
          "data": {
            "text/plain": [
              "True"
            ]
          },
          "metadata": {},
          "execution_count": 51
        }
      ]
    },
    {
      "cell_type": "markdown",
      "source": [
        "# FIND 33: LEVEL 2"
      ],
      "metadata": {
        "id": "mI5PHeqRG5UQ"
      }
    },
    {
      "cell_type": "markdown",
      "source": [
        "Given a list of ints, return True if the array contains a 3 next to a 3 somewhere."
      ],
      "metadata": {
        "id": "jqopugMWHFWP"
      }
    },
    {
      "cell_type": "code",
      "source": [
        "# has_33([1, 3, 3]) → True\n",
        "# has_33([1, 3, 1, 3]) → False\n",
        "# has_33([3, 1, 3]) → False"
      ],
      "metadata": {
        "id": "GM6r_1NxHIe5"
      },
      "execution_count": null,
      "outputs": []
    },
    {
      "cell_type": "code",
      "source": [
        "def has_33(nums):\n",
        "  \n",
        "  for i in range(0,len(nums)-1):\n",
        "    if nums[i] == 3 and nums[i+1] == 3:\n",
        "    #if nums[i] == nums[i+1]:\n",
        "      return True\n",
        "\n",
        "  return False\n"
      ],
      "metadata": {
        "id": "Za4OwJqxORRG"
      },
      "execution_count": 67,
      "outputs": []
    },
    {
      "cell_type": "code",
      "source": [
        "# Alternative answer, less readable:\n",
        "\n",
        "def has_33(nums):\n",
        "  \n",
        "  for i in range(0,len(nums)-1):\n",
        "    if nums[i:i+2] == [3,3]:\n",
        "      return True\n",
        "\n",
        "  return False"
      ],
      "metadata": {
        "id": "6_ua42utcvZt"
      },
      "execution_count": 73,
      "outputs": []
    },
    {
      "cell_type": "code",
      "source": [
        "has_33([1, 3, 3])"
      ],
      "metadata": {
        "colab": {
          "base_uri": "https://localhost:8080/"
        },
        "id": "NqfgKMABbosa",
        "outputId": "f681809d-f6af-4e78-e83c-689bff3b1f7a"
      },
      "execution_count": 74,
      "outputs": [
        {
          "output_type": "execute_result",
          "data": {
            "text/plain": [
              "True"
            ]
          },
          "metadata": {},
          "execution_count": 74
        }
      ]
    },
    {
      "cell_type": "code",
      "source": [
        "has_33([1, 3, 1, 3])"
      ],
      "metadata": {
        "colab": {
          "base_uri": "https://localhost:8080/"
        },
        "id": "bDQAzrFVORNo",
        "outputId": "70acf19c-0e7c-4c98-a0d7-8fd3ced2e9c8"
      },
      "execution_count": 75,
      "outputs": [
        {
          "output_type": "execute_result",
          "data": {
            "text/plain": [
              "False"
            ]
          },
          "metadata": {},
          "execution_count": 75
        }
      ]
    },
    {
      "cell_type": "code",
      "source": [
        "has_33([3, 1, 3])"
      ],
      "metadata": {
        "colab": {
          "base_uri": "https://localhost:8080/"
        },
        "id": "FtSN2XyBOb7t",
        "outputId": "75ff4182-c4ce-4364-96d5-8fddb641ec62"
      },
      "execution_count": 76,
      "outputs": [
        {
          "output_type": "execute_result",
          "data": {
            "text/plain": [
              "False"
            ]
          },
          "metadata": {},
          "execution_count": 76
        }
      ]
    },
    {
      "cell_type": "markdown",
      "source": [
        "# PAPER DOLL: LEVEL 2"
      ],
      "metadata": {
        "id": "97H4_RK7HJiJ"
      }
    },
    {
      "cell_type": "markdown",
      "source": [
        "Given a string, return a string where for every character in the original there are three characters"
      ],
      "metadata": {
        "id": "J_OX4kAlHQVC"
      }
    },
    {
      "cell_type": "code",
      "source": [
        "# paper_doll('Hello') --> 'HHHeeellllllooo'\n",
        "# paper_doll('Mississippi') --> 'MMMiiissssssiiippppppiii'"
      ],
      "metadata": {
        "id": "eUiKXQMwHXko"
      },
      "execution_count": null,
      "outputs": []
    },
    {
      "cell_type": "code",
      "source": [
        "\n",
        "def paper_doll(text):\n",
        "  result = ''\n",
        "\n",
        "  for x in text:\n",
        "    result += x*3 # or x+x+x\n",
        "  \n",
        "  return result"
      ],
      "metadata": {
        "id": "J0vmLgEvOqso"
      },
      "execution_count": 82,
      "outputs": []
    },
    {
      "cell_type": "code",
      "source": [
        "paper_doll('Hello')"
      ],
      "metadata": {
        "colab": {
          "base_uri": "https://localhost:8080/",
          "height": 36
        },
        "id": "tnQNGhikdtfv",
        "outputId": "71ddc105-499b-4062-b11e-d08ddccb430a"
      },
      "execution_count": 83,
      "outputs": [
        {
          "output_type": "execute_result",
          "data": {
            "text/plain": [
              "'HHHeeellllllooo'"
            ],
            "application/vnd.google.colaboratory.intrinsic+json": {
              "type": "string"
            }
          },
          "metadata": {},
          "execution_count": 83
        }
      ]
    },
    {
      "cell_type": "code",
      "source": [
        "paper_doll('Mississippi')"
      ],
      "metadata": {
        "colab": {
          "base_uri": "https://localhost:8080/",
          "height": 36
        },
        "id": "E1uCQFfHOqR3",
        "outputId": "25289baf-d4b8-4c70-8d9f-7194166402a1"
      },
      "execution_count": 79,
      "outputs": [
        {
          "output_type": "execute_result",
          "data": {
            "text/plain": [
              "'MMMiiissssssiiissssssiiippppppiii'"
            ],
            "application/vnd.google.colaboratory.intrinsic+json": {
              "type": "string"
            }
          },
          "metadata": {},
          "execution_count": 79
        }
      ]
    },
    {
      "cell_type": "markdown",
      "source": [
        "# BLACKJACK: LEVEL 2"
      ],
      "metadata": {
        "id": "OntNqziXHYKg"
      }
    },
    {
      "cell_type": "markdown",
      "source": [
        "Given three integers between 1 and 11, if their sum is less than or equal to 21, return their sum. If their sum exceeds 21 and there's an eleven, reduce the total sum by 10. Finally, if the sum (even after adjustment) exceeds 21, return 'BUST'"
      ],
      "metadata": {
        "id": "OyvtArcEHftp"
      }
    },
    {
      "cell_type": "code",
      "source": [
        "# blackjack(5,6,7) --> 18\n",
        "# blackjack(9,9,9) --> 'BUST'\n",
        "# blackjack(9,9,11) --> 19"
      ],
      "metadata": {
        "id": "Yv_o9GZbIezD"
      },
      "execution_count": null,
      "outputs": []
    },
    {
      "cell_type": "code",
      "source": [
        "def blackjack(a,b,c):\n",
        "    \n",
        "    if sum((a,b,c)) <= 21:\n",
        "        return sum((a,b,c))\n",
        "    elif sum((a,b,c)) > 21 and 11 in (a,b,c):\n",
        "        return sum((a,b,c)) - 10\n",
        "    else:\n",
        "        return 'BUST'"
      ],
      "metadata": {
        "id": "oKchUyjRO-NT"
      },
      "execution_count": 96,
      "outputs": []
    },
    {
      "cell_type": "code",
      "source": [
        "blackjack(5,6,7)"
      ],
      "metadata": {
        "colab": {
          "base_uri": "https://localhost:8080/"
        },
        "id": "Cdh7amrffKek",
        "outputId": "5cc69b69-176f-4acf-d2af-f5de66574ff8"
      },
      "execution_count": 97,
      "outputs": [
        {
          "output_type": "execute_result",
          "data": {
            "text/plain": [
              "18"
            ]
          },
          "metadata": {},
          "execution_count": 97
        }
      ]
    },
    {
      "cell_type": "code",
      "source": [
        "blackjack(9,9,9)"
      ],
      "metadata": {
        "colab": {
          "base_uri": "https://localhost:8080/",
          "height": 36
        },
        "id": "QPX4KhidO-Gc",
        "outputId": "1cfccc5a-d5bf-4c3e-c6bf-de8208bdddee"
      },
      "execution_count": 98,
      "outputs": [
        {
          "output_type": "execute_result",
          "data": {
            "text/plain": [
              "'BUST'"
            ],
            "application/vnd.google.colaboratory.intrinsic+json": {
              "type": "string"
            }
          },
          "metadata": {},
          "execution_count": 98
        }
      ]
    },
    {
      "cell_type": "code",
      "source": [
        "blackjack(9,9,11)"
      ],
      "metadata": {
        "colab": {
          "base_uri": "https://localhost:8080/"
        },
        "id": "AaD4rNBqO9dt",
        "outputId": "2ab2d3b2-1056-4ce5-e1ed-184706c7e7af"
      },
      "execution_count": 99,
      "outputs": [
        {
          "output_type": "execute_result",
          "data": {
            "text/plain": [
              "19"
            ]
          },
          "metadata": {},
          "execution_count": 99
        }
      ]
    },
    {
      "cell_type": "markdown",
      "source": [
        "# SUMMER OF '69: LEVEL 2"
      ],
      "metadata": {
        "id": "QrXIvC6GHtyf"
      }
    },
    {
      "cell_type": "markdown",
      "source": [
        "Return the sum of the numbers in the array, except ignore sections of numbers starting with a 6 and extending to the next 9 (every 6 will be followed by at least one 9). Return 0 for no numbers."
      ],
      "metadata": {
        "id": "H5jf7f1qH0_f"
      }
    },
    {
      "cell_type": "code",
      "source": [
        "# summer_69([1, 3, 5]) --> 9\n",
        "# summer_69([4, 5, 6, 7, 8, 9]) --> 9\n",
        "# summer_69([2, 1, 6, 9, 11]) --> 14"
      ],
      "metadata": {
        "id": "GfoGXy5iH16s"
      },
      "execution_count": null,
      "outputs": []
    },
    {
      "cell_type": "code",
      "source": [
        "def summer_69(arr):\n",
        "    total = 0\n",
        "    add = True\n",
        "    for num in arr:\n",
        "        while add:\n",
        "            if num != 6:\n",
        "                total += num\n",
        "                break\n",
        "            else:\n",
        "                add = False\n",
        "        while not add:\n",
        "            if num != 9:\n",
        "                break\n",
        "            else:\n",
        "                add = True\n",
        "                break\n",
        "    return total\n"
      ],
      "metadata": {
        "id": "WHn5zmrLP9ol"
      },
      "execution_count": 100,
      "outputs": []
    },
    {
      "cell_type": "code",
      "source": [
        "summer_69([1, 3, 5])"
      ],
      "metadata": {
        "colab": {
          "base_uri": "https://localhost:8080/"
        },
        "id": "yNUAiJp9hVLJ",
        "outputId": "93b251cc-5422-4977-c3bd-197606ccb2c3"
      },
      "execution_count": 101,
      "outputs": [
        {
          "output_type": "execute_result",
          "data": {
            "text/plain": [
              "9"
            ]
          },
          "metadata": {},
          "execution_count": 101
        }
      ]
    },
    {
      "cell_type": "code",
      "source": [
        "summer_69([4, 5, 6, 7, 8, 9])"
      ],
      "metadata": {
        "colab": {
          "base_uri": "https://localhost:8080/"
        },
        "id": "MU0Cp9ABP9gF",
        "outputId": "81f97aba-adba-4620-ff81-62a22607802e"
      },
      "execution_count": 102,
      "outputs": [
        {
          "output_type": "execute_result",
          "data": {
            "text/plain": [
              "9"
            ]
          },
          "metadata": {},
          "execution_count": 102
        }
      ]
    },
    {
      "cell_type": "code",
      "source": [
        "summer_69([2, 1, 6, 9, 11])"
      ],
      "metadata": {
        "colab": {
          "base_uri": "https://localhost:8080/"
        },
        "id": "ndfgu5UTP9NF",
        "outputId": "7721a491-0ba9-491b-a7f4-f0d8e1a455f3"
      },
      "execution_count": 103,
      "outputs": [
        {
          "output_type": "execute_result",
          "data": {
            "text/plain": [
              "14"
            ]
          },
          "metadata": {},
          "execution_count": 103
        }
      ]
    },
    {
      "cell_type": "markdown",
      "source": [
        "# SPY GAME: CHALLENGING"
      ],
      "metadata": {
        "id": "LAoprVULH94V"
      }
    },
    {
      "cell_type": "markdown",
      "source": [
        "Write a function that takes in a list of integers and returns True if it contains 007 in order"
      ],
      "metadata": {
        "id": "sMqSz9M6IBgC"
      }
    },
    {
      "cell_type": "code",
      "source": [
        "# spy_game([1,2,4,0,0,7,5]) --> True\n",
        "# spy_game([1,0,2,4,0,5,7]) --> True\n",
        "# spy_game([1,7,2,0,4,5,0]) --> False"
      ],
      "metadata": {
        "id": "sebP8gkAICce"
      },
      "execution_count": null,
      "outputs": []
    },
    {
      "cell_type": "code",
      "source": [
        "def spy_game(nums):\n",
        "\n",
        "    code = [0,0,7,'x']\n",
        "\n",
        "    # pop off 'code'\n",
        "    #[0,7,'x']\n",
        "    #[7,'x']\n",
        "    #['x']\n",
        "    \n",
        "    for num in nums:\n",
        "        if num == code[0]:\n",
        "            code.pop(0)   # code.remove(num) also works\n",
        "       \n",
        "    return len(code) == 1\n"
      ],
      "metadata": {
        "id": "xrvV2rLTQVJi"
      },
      "execution_count": 104,
      "outputs": []
    },
    {
      "cell_type": "code",
      "source": [
        "spy_game([1,2,4,0,0,7,5])"
      ],
      "metadata": {
        "colab": {
          "base_uri": "https://localhost:8080/"
        },
        "id": "dg22jGtSjQUm",
        "outputId": "0c8069a6-f047-46a8-d005-f3e80bc462e1"
      },
      "execution_count": 105,
      "outputs": [
        {
          "output_type": "execute_result",
          "data": {
            "text/plain": [
              "True"
            ]
          },
          "metadata": {},
          "execution_count": 105
        }
      ]
    },
    {
      "cell_type": "code",
      "source": [
        "spy_game([1,0,2,4,0,5,7])"
      ],
      "metadata": {
        "colab": {
          "base_uri": "https://localhost:8080/"
        },
        "id": "WhiaHfD5QVBB",
        "outputId": "d8626595-8497-4d74-b799-d5de6558e291"
      },
      "execution_count": 110,
      "outputs": [
        {
          "output_type": "execute_result",
          "data": {
            "text/plain": [
              "True"
            ]
          },
          "metadata": {},
          "execution_count": 110
        }
      ]
    },
    {
      "cell_type": "code",
      "source": [
        "spy_game([1,7,2,0,4,5,0])"
      ],
      "metadata": {
        "colab": {
          "base_uri": "https://localhost:8080/"
        },
        "id": "CLxUMrMJQU4P",
        "outputId": "b940c461-a7c2-4256-807a-272ff404264f"
      },
      "execution_count": 107,
      "outputs": [
        {
          "output_type": "execute_result",
          "data": {
            "text/plain": [
              "False"
            ]
          },
          "metadata": {},
          "execution_count": 107
        }
      ]
    },
    {
      "cell_type": "markdown",
      "source": [
        "# COUNT PRIMES: CHALLENGING"
      ],
      "metadata": {
        "id": "a6kkYbY9IC3_"
      }
    },
    {
      "cell_type": "markdown",
      "source": [
        "Write a function that returns the number of prime numbers that exist up to and including a given number"
      ],
      "metadata": {
        "id": "Nh9rSvb-IP1I"
      }
    },
    {
      "cell_type": "code",
      "source": [
        "# count_primes(100) --> 25"
      ],
      "metadata": {
        "id": "2hE8UNwPIRUd"
      },
      "execution_count": null,
      "outputs": []
    },
    {
      "cell_type": "code",
      "source": [
        "def count_primes(num):\n",
        "    \n",
        "    # Store our prime numbers\n",
        "    primes = [2]\n",
        "    # Counter going up to the imput number\n",
        "    x = 3\n",
        "\n",
        "    if num < 2:  # for the case of num = 0 or 1\n",
        "        return 0\n",
        "    # x is going through every number up to the input number\n",
        "    while x <= num:\n",
        "        # check if x is prime\n",
        "        for y in range(3,x,2):  # test all odd factors up to x-1\n",
        "            if x%y == 0:\n",
        "                x += 2\n",
        "                break\n",
        "        else:\n",
        "            primes.append(x)\n",
        "            x += 2\n",
        "    print(primes)\n",
        "    return len(primes)\n"
      ],
      "metadata": {
        "id": "S2guZXNQQt9i"
      },
      "execution_count": 111,
      "outputs": []
    },
    {
      "cell_type": "code",
      "source": [
        "count_primes(100)"
      ],
      "metadata": {
        "colab": {
          "base_uri": "https://localhost:8080/"
        },
        "id": "H089gGRNk8Aj",
        "outputId": "eca8b0dd-e11b-4ce3-eb31-28986d0de240"
      },
      "execution_count": 112,
      "outputs": [
        {
          "output_type": "stream",
          "name": "stdout",
          "text": [
            "[2, 3, 5, 7, 11, 13, 17, 19, 23, 29, 31, 37, 41, 43, 47, 53, 59, 61, 67, 71, 73, 79, 83, 89, 97]\n"
          ]
        },
        {
          "output_type": "execute_result",
          "data": {
            "text/plain": [
              "25"
            ]
          },
          "metadata": {},
          "execution_count": 112
        }
      ]
    },
    {
      "cell_type": "code",
      "source": [
        "# BONUS: Here's a faster version that makes use of the prime numbers we're collecting as we go!\n",
        "\n",
        "def count_primes2(num):\n",
        "    primes = [2]\n",
        "    x = 3\n",
        "    if num < 2:\n",
        "        return 0\n",
        "    while x <= num:\n",
        "        for y in primes:  # use the primes list!\n",
        "            if x%y == 0:\n",
        "                x += 2\n",
        "                break\n",
        "        else:\n",
        "            primes.append(x)\n",
        "            x += 2\n",
        "    print(primes)\n",
        "    return len(primes)"
      ],
      "metadata": {
        "id": "07BaNClFlDe3"
      },
      "execution_count": 113,
      "outputs": []
    },
    {
      "cell_type": "code",
      "source": [
        "count_primes(10)"
      ],
      "metadata": {
        "colab": {
          "base_uri": "https://localhost:8080/"
        },
        "id": "EC3YEUhdlR9F",
        "outputId": "dab36126-c680-430e-f38c-5033c40eb33f"
      },
      "execution_count": 114,
      "outputs": [
        {
          "output_type": "stream",
          "name": "stdout",
          "text": [
            "[2, 3, 5, 7]\n"
          ]
        },
        {
          "output_type": "execute_result",
          "data": {
            "text/plain": [
              "4"
            ]
          },
          "metadata": {},
          "execution_count": 114
        }
      ]
    },
    {
      "cell_type": "markdown",
      "source": [
        "# PRINT BIG: JUST FOR FUN"
      ],
      "metadata": {
        "id": "W-q7LFTTISy3"
      }
    },
    {
      "cell_type": "markdown",
      "source": [
        "Write a function that takes in a single letter, and returns a 5x5 representation of that letter"
      ],
      "metadata": {
        "id": "4BJy4LIaId-f"
      }
    },
    {
      "cell_type": "markdown",
      "source": [
        "print_big('a')\n",
        "\n",
        "out:   *  \n",
        "\n",
        "      * *\n",
        "\n",
        "     *****\n",
        "\n",
        "     *   *\n",
        "\n",
        "     *   *\n",
        "\n",
        "     \n",
        "HINT: Consider making a dictionary of possible patterns, and mapping the alphabet to specific 5-line combinations of patterns.\n",
        "For purposes of this exercise, it's ok if your dictionary stops at \"E\"."
      ],
      "metadata": {
        "id": "R_Dw1Xg6RDTl"
      }
    },
    {
      "cell_type": "code",
      "source": [
        "def print_big(letter):\n",
        "    patterns = {1:'  *  ',2:' * * ',3:'*   *',4:'*****',5:'**** ',6:'   * ',7:' *   ',8:'*   * ',9:'*    '}\n",
        "    alphabet = {'A':[1,2,4,3,3],'B':[5,3,5,3,5],'C':[4,9,9,9,4],'D':[5,3,3,3,5],'E':[4,9,4,9,4]}\n",
        "    for pattern in alphabet[letter.upper()]:\n",
        "        print(patterns[pattern])\n",
        "\n",
        "print_big('a')"
      ],
      "metadata": {
        "colab": {
          "base_uri": "https://localhost:8080/"
        },
        "id": "XlEUKZk5Q6tv",
        "outputId": "9b460c92-41c4-4426-d78f-96db2a464c2e"
      },
      "execution_count": 115,
      "outputs": [
        {
          "output_type": "stream",
          "name": "stdout",
          "text": [
            "  *  \n",
            " * * \n",
            "*****\n",
            "*   *\n",
            "*   *\n"
          ]
        }
      ]
    }
  ]
}