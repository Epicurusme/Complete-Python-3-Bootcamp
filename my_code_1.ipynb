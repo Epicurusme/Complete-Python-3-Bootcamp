{
  "nbformat": 4,
  "nbformat_minor": 0,
  "metadata": {
    "colab": {
      "provenance": [],
      "collapsed_sections": [
        "2tuWs22-2E3L",
        "vBfJF2khWDkG",
        "hIaFrabkXCUH",
        "Ij0YEmqvkPbl",
        "nEuoMVa6pR4T",
        "Wtpn7teh1U4G",
        "AoGVOhkl0oxc",
        "wL2Q1gKIKtDY",
        "dRkKsWO8lsjv",
        "M1tQfli6nmuC"
      ],
      "mount_file_id": "1ZwPOBPRyqwJnIDcv_3gfkWHM5fjGga1W",
      "authorship_tag": "ABX9TyNDJ8o1jJ0u3U2MruCy4gPm",
      "include_colab_link": true
    },
    "kernelspec": {
      "name": "python3",
      "display_name": "Python 3"
    },
    "language_info": {
      "name": "python"
    }
  },
  "cells": [
    {
      "cell_type": "markdown",
      "metadata": {
        "id": "view-in-github",
        "colab_type": "text"
      },
      "source": [
        "<a href=\"https://colab.research.google.com/github/Epicurusme/Complete-Python-3-Bootcamp/blob/master/my_code_1.ipynb\" target=\"_parent\"><img src=\"https://colab.research.google.com/assets/colab-badge.svg\" alt=\"Open In Colab\"/></a>"
      ]
    },
    {
      "cell_type": "markdown",
      "source": [
        "# **PYTHON NUMBERS - MODS**"
      ],
      "metadata": {
        "id": "2tuWs22-2E3L"
      }
    },
    {
      "cell_type": "code",
      "source": [
        "7 % 4"
      ],
      "metadata": {
        "colab": {
          "base_uri": "https://localhost:8080/"
        },
        "id": "ps7K2010JHFx",
        "outputId": "ff07f5a4-cdac-4e9e-a788-653bae388d55"
      },
      "execution_count": null,
      "outputs": [
        {
          "output_type": "execute_result",
          "data": {
            "text/plain": [
              "3"
            ]
          },
          "metadata": {},
          "execution_count": 3
        }
      ]
    },
    {
      "cell_type": "code",
      "source": [
        "50 % 5"
      ],
      "metadata": {
        "colab": {
          "base_uri": "https://localhost:8080/"
        },
        "id": "ejlCvsmcJMiZ",
        "outputId": "6c2a4221-71f3-4569-bc42-ee3a1ca29d29"
      },
      "execution_count": null,
      "outputs": [
        {
          "output_type": "execute_result",
          "data": {
            "text/plain": [
              "0"
            ]
          },
          "metadata": {},
          "execution_count": 4
        }
      ]
    },
    {
      "cell_type": "code",
      "source": [
        "23 % 2"
      ],
      "metadata": {
        "colab": {
          "base_uri": "https://localhost:8080/"
        },
        "id": "iSNU_tWiJRrd",
        "outputId": "f3f1a197-0909-40ce-a503-0fb072ee5e4c"
      },
      "execution_count": null,
      "outputs": [
        {
          "output_type": "execute_result",
          "data": {
            "text/plain": [
              "1"
            ]
          },
          "metadata": {},
          "execution_count": 7
        }
      ]
    },
    {
      "cell_type": "code",
      "source": [
        "type (a)"
      ],
      "metadata": {
        "id": "vmzSjPF1JUWi",
        "colab": {
          "base_uri": "https://localhost:8080/"
        },
        "outputId": "2aa009fa-3cf8-4c08-f466-57d7530d0349"
      },
      "execution_count": null,
      "outputs": [
        {
          "output_type": "execute_result",
          "data": {
            "text/plain": [
              "int"
            ]
          },
          "metadata": {},
          "execution_count": 3
        }
      ]
    },
    {
      "cell_type": "markdown",
      "source": [
        "# **STRINGS**"
      ],
      "metadata": {
        "id": "vBfJF2khWDkG"
      }
    },
    {
      "cell_type": "code",
      "source": [
        "a=1"
      ],
      "metadata": {
        "id": "H8_clWirP8e7"
      },
      "execution_count": null,
      "outputs": []
    },
    {
      "cell_type": "code",
      "source": [
        "a=a+a"
      ],
      "metadata": {
        "id": "kMd1yNoLQbKj"
      },
      "execution_count": null,
      "outputs": []
    },
    {
      "cell_type": "code",
      "source": [
        "a"
      ],
      "metadata": {
        "colab": {
          "base_uri": "https://localhost:8080/"
        },
        "id": "BxkMeBHRROI7",
        "outputId": "05185cab-a5c5-4682-c281-788e4b0efcc0"
      },
      "execution_count": null,
      "outputs": [
        {
          "output_type": "execute_result",
          "data": {
            "text/plain": [
              "4"
            ]
          },
          "metadata": {},
          "execution_count": 43
        }
      ]
    },
    {
      "cell_type": "code",
      "source": [
        "my_name_1 = \"olagunju oke\""
      ],
      "metadata": {
        "id": "vBPqB_0vRP3_"
      },
      "execution_count": null,
      "outputs": []
    },
    {
      "cell_type": "code",
      "source": [
        "my_name_2 = \"olagunju \\noke\""
      ],
      "metadata": {
        "id": "9REJT8gISz-Z"
      },
      "execution_count": null,
      "outputs": []
    },
    {
      "cell_type": "code",
      "source": [
        "my_name_3 = \"olagunju \\toke\""
      ],
      "metadata": {
        "id": "LD93BoJCS7gP"
      },
      "execution_count": null,
      "outputs": []
    },
    {
      "cell_type": "code",
      "source": [
        "my_name_1 [-3]"
      ],
      "metadata": {
        "colab": {
          "base_uri": "https://localhost:8080/",
          "height": 36
        },
        "id": "XjDLPaNOWcjE",
        "outputId": "5b329fe3-d91f-4949-ae7b-ef08db2a8391"
      },
      "execution_count": null,
      "outputs": [
        {
          "output_type": "execute_result",
          "data": {
            "text/plain": [
              "'o'"
            ],
            "application/vnd.google.colaboratory.intrinsic+json": {
              "type": "string"
            }
          },
          "metadata": {},
          "execution_count": 44
        }
      ]
    },
    {
      "cell_type": "code",
      "source": [
        "print(my_name_1)"
      ],
      "metadata": {
        "colab": {
          "base_uri": "https://localhost:8080/"
        },
        "id": "ZvXk5JFCTCNg",
        "outputId": "9789fc45-2aab-439d-fd7d-8396491aa605"
      },
      "execution_count": null,
      "outputs": [
        {
          "output_type": "stream",
          "name": "stdout",
          "text": [
            "olagunju oke\n"
          ]
        }
      ]
    },
    {
      "cell_type": "code",
      "source": [
        "print(my_name_2)"
      ],
      "metadata": {
        "colab": {
          "base_uri": "https://localhost:8080/"
        },
        "id": "mIdjsEj_Tlh9",
        "outputId": "ce5a6e99-0596-4798-c68a-25ed1bfa4ae2"
      },
      "execution_count": null,
      "outputs": [
        {
          "output_type": "stream",
          "name": "stdout",
          "text": [
            "olagunju \n",
            "oke\n"
          ]
        }
      ]
    },
    {
      "cell_type": "code",
      "source": [
        "print(my_name_3)"
      ],
      "metadata": {
        "colab": {
          "base_uri": "https://localhost:8080/"
        },
        "id": "wpY1z5TTUr4Z",
        "outputId": "11c31b7f-e270-445a-e99b-956684f9366a"
      },
      "execution_count": null,
      "outputs": [
        {
          "output_type": "stream",
          "name": "stdout",
          "text": [
            "olagunju \toke\n"
          ]
        }
      ]
    },
    {
      "cell_type": "code",
      "source": [],
      "metadata": {
        "id": "kDWT19PxU3_y"
      },
      "execution_count": null,
      "outputs": []
    },
    {
      "cell_type": "markdown",
      "source": [
        "# **INDEXING AND SLICING**"
      ],
      "metadata": {
        "id": "hIaFrabkXCUH"
      }
    },
    {
      "cell_type": "code",
      "source": [
        "mystring = \"abcdefghijk\""
      ],
      "metadata": {
        "id": "SPMAxqkWXHqX"
      },
      "execution_count": null,
      "outputs": []
    },
    {
      "cell_type": "code",
      "source": [
        "mystring"
      ],
      "metadata": {
        "colab": {
          "base_uri": "https://localhost:8080/",
          "height": 36
        },
        "id": "uRzE3vxbXdM3",
        "outputId": "eabcaada-d0d4-40ae-af57-cd5136d526af"
      },
      "execution_count": null,
      "outputs": [
        {
          "output_type": "execute_result",
          "data": {
            "text/plain": [
              "'abcdefghijk'"
            ],
            "application/vnd.google.colaboratory.intrinsic+json": {
              "type": "string"
            }
          },
          "metadata": {},
          "execution_count": 48
        }
      ]
    },
    {
      "cell_type": "code",
      "source": [
        "print(mystring)"
      ],
      "metadata": {
        "colab": {
          "base_uri": "https://localhost:8080/"
        },
        "id": "ssdPS-HCXgdE",
        "outputId": "dbc24204-460a-4d9d-a89f-a51abab7350e"
      },
      "execution_count": null,
      "outputs": [
        {
          "output_type": "stream",
          "name": "stdout",
          "text": [
            "abcdefghijk\n"
          ]
        }
      ]
    },
    {
      "cell_type": "code",
      "source": [
        "mystring[2:]"
      ],
      "metadata": {
        "colab": {
          "base_uri": "https://localhost:8080/",
          "height": 36
        },
        "id": "BjW-LUcgXvur",
        "outputId": "037fe18e-9004-4456-c608-bd3bab977a43"
      },
      "execution_count": null,
      "outputs": [
        {
          "output_type": "execute_result",
          "data": {
            "text/plain": [
              "'cdefghijk'"
            ],
            "application/vnd.google.colaboratory.intrinsic+json": {
              "type": "string"
            }
          },
          "metadata": {},
          "execution_count": 50
        }
      ]
    },
    {
      "cell_type": "code",
      "source": [
        "mystring[:3]"
      ],
      "metadata": {
        "colab": {
          "base_uri": "https://localhost:8080/",
          "height": 36
        },
        "id": "pix0B7NCX-o3",
        "outputId": "21a1e40e-c239-4fe4-c46e-22fb550df9b3"
      },
      "execution_count": null,
      "outputs": [
        {
          "output_type": "execute_result",
          "data": {
            "text/plain": [
              "'abc'"
            ],
            "application/vnd.google.colaboratory.intrinsic+json": {
              "type": "string"
            }
          },
          "metadata": {},
          "execution_count": 51
        }
      ]
    },
    {
      "cell_type": "markdown",
      "source": [
        "[:3] is for up to, but not including index 3"
      ],
      "metadata": {
        "id": "YUuzLXg0YR48"
      }
    },
    {
      "cell_type": "code",
      "source": [
        "mystring[3:6]"
      ],
      "metadata": {
        "colab": {
          "base_uri": "https://localhost:8080/",
          "height": 36
        },
        "id": "TUGH4wsjYGjZ",
        "outputId": "c3cacf49-9f3f-4b95-a4f0-411f70ddd830"
      },
      "execution_count": null,
      "outputs": [
        {
          "output_type": "execute_result",
          "data": {
            "text/plain": [
              "'def'"
            ],
            "application/vnd.google.colaboratory.intrinsic+json": {
              "type": "string"
            }
          },
          "metadata": {},
          "execution_count": 52
        }
      ]
    },
    {
      "cell_type": "markdown",
      "source": [
        "Remember, it is up to index no. 5 for [:6]!"
      ],
      "metadata": {
        "id": "Tv31P3EEZmQg"
      }
    },
    {
      "cell_type": "code",
      "source": [
        "mystring[::]"
      ],
      "metadata": {
        "colab": {
          "base_uri": "https://localhost:8080/",
          "height": 36
        },
        "id": "kv7YFONIZdSj",
        "outputId": "60fa74ab-e9d6-4cf3-e622-8d713f0ee3f4"
      },
      "execution_count": null,
      "outputs": [
        {
          "output_type": "execute_result",
          "data": {
            "text/plain": [
              "'abcdefghijk'"
            ],
            "application/vnd.google.colaboratory.intrinsic+json": {
              "type": "string"
            }
          },
          "metadata": {},
          "execution_count": 53
        }
      ]
    },
    {
      "cell_type": "markdown",
      "source": [
        "Another way of showing the whole string, used as percursor to the step-size method (3rd parameter), see below."
      ],
      "metadata": {
        "id": "RT3CHjc2acuZ"
      }
    },
    {
      "cell_type": "code",
      "source": [
        "mystring[::2]"
      ],
      "metadata": {
        "colab": {
          "base_uri": "https://localhost:8080/",
          "height": 36
        },
        "id": "iRcnmVhOaON4",
        "outputId": "18e1247a-34c6-4fbb-8a4e-92dd86c35df2"
      },
      "execution_count": null,
      "outputs": [
        {
          "output_type": "execute_result",
          "data": {
            "text/plain": [
              "'acegik'"
            ],
            "application/vnd.google.colaboratory.intrinsic+json": {
              "type": "string"
            }
          },
          "metadata": {},
          "execution_count": 56
        }
      ]
    },
    {
      "cell_type": "code",
      "source": [
        "mystring[2:7:2]"
      ],
      "metadata": {
        "colab": {
          "base_uri": "https://localhost:8080/",
          "height": 36
        },
        "id": "JWdCgCtxanl4",
        "outputId": "649ab0f4-dbe7-4b0c-e0d7-78f17e0e46bc"
      },
      "execution_count": null,
      "outputs": [
        {
          "output_type": "execute_result",
          "data": {
            "text/plain": [
              "'ceg'"
            ],
            "application/vnd.google.colaboratory.intrinsic+json": {
              "type": "string"
            }
          },
          "metadata": {},
          "execution_count": 57
        }
      ]
    },
    {
      "cell_type": "code",
      "source": [
        "mystring[1:7:2]"
      ],
      "metadata": {
        "colab": {
          "base_uri": "https://localhost:8080/",
          "height": 36
        },
        "id": "lClktRY8bB6T",
        "outputId": "6f026161-a43c-47ba-9550-d4fd7b6b7d7f"
      },
      "execution_count": null,
      "outputs": [
        {
          "output_type": "execute_result",
          "data": {
            "text/plain": [
              "'bdf'"
            ],
            "application/vnd.google.colaboratory.intrinsic+json": {
              "type": "string"
            }
          },
          "metadata": {},
          "execution_count": 58
        }
      ]
    },
    {
      "cell_type": "code",
      "source": [
        "mystring[::-1]"
      ],
      "metadata": {
        "colab": {
          "base_uri": "https://localhost:8080/",
          "height": 36
        },
        "id": "OxLPNU9-bKF4",
        "outputId": "c7448cdd-2a4f-490a-8c62-c00515b33232"
      },
      "execution_count": null,
      "outputs": [
        {
          "output_type": "execute_result",
          "data": {
            "text/plain": [
              "'kjihgfedcba'"
            ],
            "application/vnd.google.colaboratory.intrinsic+json": {
              "type": "string"
            }
          },
          "metadata": {},
          "execution_count": 66
        }
      ]
    },
    {
      "cell_type": "markdown",
      "source": [
        "Useful trick for reverse string instead of using 'for loop'"
      ],
      "metadata": {
        "id": "zqywNO5ec9hR"
      }
    },
    {
      "cell_type": "markdown",
      "source": [
        "# **STRING PROPERTIES AND METHODS - IMMUTABILITY**"
      ],
      "metadata": {
        "id": "Ij0YEmqvkPbl"
      }
    },
    {
      "cell_type": "markdown",
      "source": [
        "IMMUTABILITY - Cannot mutate, cannot change"
      ],
      "metadata": {
        "id": "G9anK7qLkmbR"
      }
    },
    {
      "cell_type": "code",
      "source": [
        "name = 'Sam'"
      ],
      "metadata": {
        "id": "onr01f3jkg74"
      },
      "execution_count": null,
      "outputs": []
    },
    {
      "cell_type": "code",
      "source": [
        "# name [0] = 'P'"
      ],
      "metadata": {
        "id": "Vql_IOCdlBLV"
      },
      "execution_count": null,
      "outputs": []
    },
    {
      "cell_type": "code",
      "source": [
        "last_letters = name[1:]"
      ],
      "metadata": {
        "id": "UI-l1tkllHNf"
      },
      "execution_count": null,
      "outputs": []
    },
    {
      "cell_type": "code",
      "source": [
        "last_letters"
      ],
      "metadata": {
        "colab": {
          "base_uri": "https://localhost:8080/",
          "height": 36
        },
        "id": "MVmsP4YxlYPL",
        "outputId": "c6a50493-dad3-4e4b-bbf5-9e3516f715d5"
      },
      "execution_count": null,
      "outputs": [
        {
          "output_type": "execute_result",
          "data": {
            "text/plain": [
              "'am'"
            ],
            "application/vnd.google.colaboratory.intrinsic+json": {
              "type": "string"
            }
          },
          "metadata": {},
          "execution_count": 70
        }
      ]
    },
    {
      "cell_type": "code",
      "source": [
        "'P' + last_letters"
      ],
      "metadata": {
        "colab": {
          "base_uri": "https://localhost:8080/",
          "height": 36
        },
        "id": "ffT9g3etlaAo",
        "outputId": "45b1f15e-3532-4742-8408-03be019439af"
      },
      "execution_count": null,
      "outputs": [
        {
          "output_type": "execute_result",
          "data": {
            "text/plain": [
              "'Pam'"
            ],
            "application/vnd.google.colaboratory.intrinsic+json": {
              "type": "string"
            }
          },
          "metadata": {},
          "execution_count": 71
        }
      ]
    },
    {
      "cell_type": "code",
      "source": [
        "x = 'Hello World'\n",
        "x + ', it is beautiful outside!'"
      ],
      "metadata": {
        "colab": {
          "base_uri": "https://localhost:8080/",
          "height": 36
        },
        "id": "onK4hty7lf4E",
        "outputId": "3ceeb49b-13dd-46bf-ff2f-146892ea7048"
      },
      "execution_count": null,
      "outputs": [
        {
          "output_type": "execute_result",
          "data": {
            "text/plain": [
              "'Hello World, it is beautiful outside!'"
            ],
            "application/vnd.google.colaboratory.intrinsic+json": {
              "type": "string"
            }
          },
          "metadata": {},
          "execution_count": 73
        }
      ]
    },
    {
      "cell_type": "code",
      "source": [
        "letter = 'z'\n",
        "letter*10"
      ],
      "metadata": {
        "colab": {
          "base_uri": "https://localhost:8080/",
          "height": 36
        },
        "id": "hgG-YBRbl00f",
        "outputId": "fe15ddcd-acc6-4566-debd-dd952f8f3e97"
      },
      "execution_count": null,
      "outputs": [
        {
          "output_type": "execute_result",
          "data": {
            "text/plain": [
              "'zzzzzzzzzz'"
            ],
            "application/vnd.google.colaboratory.intrinsic+json": {
              "type": "string"
            }
          },
          "metadata": {},
          "execution_count": 74
        }
      ]
    },
    {
      "cell_type": "code",
      "source": [
        "x = \"Hello World\""
      ],
      "metadata": {
        "id": "E5h5U9MKmglu"
      },
      "execution_count": null,
      "outputs": []
    },
    {
      "cell_type": "markdown",
      "source": [
        "'variable.' gives functions to format the output, in this case type x."
      ],
      "metadata": {
        "id": "m8eYcs9gnTAd"
      }
    },
    {
      "cell_type": "code",
      "source": [
        "x.upper()"
      ],
      "metadata": {
        "colab": {
          "base_uri": "https://localhost:8080/",
          "height": 36
        },
        "id": "Xhuv1vLEm311",
        "outputId": "d9585f76-3057-4162-987d-1c1501c675a6"
      },
      "execution_count": null,
      "outputs": [
        {
          "output_type": "execute_result",
          "data": {
            "text/plain": [
              "'HELLO WORLD'"
            ],
            "application/vnd.google.colaboratory.intrinsic+json": {
              "type": "string"
            }
          },
          "metadata": {},
          "execution_count": 78
        }
      ]
    },
    {
      "cell_type": "code",
      "source": [
        "y = \"Hi this is a string\""
      ],
      "metadata": {
        "id": "Om4vg05FoG8F"
      },
      "execution_count": null,
      "outputs": []
    },
    {
      "cell_type": "code",
      "source": [
        "y.split()"
      ],
      "metadata": {
        "colab": {
          "base_uri": "https://localhost:8080/"
        },
        "id": "JiUkGva3owQC",
        "outputId": "d46ef805-1223-409d-c02a-795e9b4cc4ce"
      },
      "execution_count": null,
      "outputs": [
        {
          "output_type": "execute_result",
          "data": {
            "text/plain": [
              "['Hi', 'this', 'is', 'a', 'string']"
            ]
          },
          "metadata": {},
          "execution_count": 85
        }
      ]
    },
    {
      "cell_type": "code",
      "source": [
        "y.split('i')"
      ],
      "metadata": {
        "colab": {
          "base_uri": "https://localhost:8080/"
        },
        "id": "K6oRIjMyoZrS",
        "outputId": "9c42b893-bd3e-41eb-a95f-4ef2991228ab"
      },
      "execution_count": null,
      "outputs": [
        {
          "output_type": "execute_result",
          "data": {
            "text/plain": [
              "['H', ' th', 's ', 's a str', 'ng']"
            ]
          },
          "metadata": {},
          "execution_count": 84
        }
      ]
    },
    {
      "cell_type": "markdown",
      "source": [
        "# **PRINT FORMATTING WITH STRINGS**"
      ],
      "metadata": {
        "id": "nEuoMVa6pR4T"
      }
    },
    {
      "cell_type": "code",
      "source": [
        "# String interpolation - 2 methods - .format() method and f-strings method (formatted string literals)"
      ],
      "metadata": {
        "id": "_T7AriiCodeD"
      },
      "execution_count": null,
      "outputs": []
    },
    {
      "cell_type": "code",
      "source": [
        "# .format() method"
      ],
      "metadata": {
        "id": "2O7WToJatGko"
      },
      "execution_count": null,
      "outputs": []
    },
    {
      "cell_type": "code",
      "source": [
        "print(\"This is a string {}\".format(\"INSERTED\"))"
      ],
      "metadata": {
        "colab": {
          "base_uri": "https://localhost:8080/"
        },
        "id": "cJW3YKYjp5zS",
        "outputId": "aa5f05b1-8cba-4653-b5bc-9ed7e61c1b45"
      },
      "execution_count": null,
      "outputs": [
        {
          "output_type": "stream",
          "name": "stdout",
          "text": [
            "This is a string INSERTED\n"
          ]
        }
      ]
    },
    {
      "cell_type": "code",
      "source": [
        "print(\"The {} {} {}\".format(\"red\",\"fox\",\"big\"))"
      ],
      "metadata": {
        "colab": {
          "base_uri": "https://localhost:8080/"
        },
        "id": "iq5pvAmCrAWK",
        "outputId": "a86076aa-6b2f-4846-a4c5-fe447fc488b8"
      },
      "execution_count": null,
      "outputs": [
        {
          "output_type": "stream",
          "name": "stdout",
          "text": [
            "The red fox big\n"
          ]
        }
      ]
    },
    {
      "cell_type": "code",
      "source": [
        "print(\"The {2} {0} {1}\".format(\"red\",\"fox\",\"big\"))"
      ],
      "metadata": {
        "colab": {
          "base_uri": "https://localhost:8080/"
        },
        "id": "kX9LutMcrtFm",
        "outputId": "d07907e6-d452-4835-8e97-1bdc4a096568"
      },
      "execution_count": null,
      "outputs": [
        {
          "output_type": "stream",
          "name": "stdout",
          "text": [
            "The big red fox\n"
          ]
        }
      ]
    },
    {
      "cell_type": "code",
      "source": [
        "print(\"The {b} {r} {f}\".format(r=\"red\",f=\"fox\",b=\"big\"))"
      ],
      "metadata": {
        "colab": {
          "base_uri": "https://localhost:8080/"
        },
        "id": "MadF_4z0sHs6",
        "outputId": "c4205eab-6448-4429-8b5c-040b2fbe6110"
      },
      "execution_count": null,
      "outputs": [
        {
          "output_type": "stream",
          "name": "stdout",
          "text": [
            "The big red fox\n"
          ]
        }
      ]
    },
    {
      "cell_type": "code",
      "source": [
        "# Another example, float formatting...\"{value:width.precision f}\""
      ],
      "metadata": {
        "id": "-EEs8FpRstba"
      },
      "execution_count": null,
      "outputs": []
    },
    {
      "cell_type": "code",
      "source": [
        "result = 100/777\n",
        "result"
      ],
      "metadata": {
        "colab": {
          "base_uri": "https://localhost:8080/"
        },
        "id": "B4KDGRYLtcr2",
        "outputId": "6c6d0755-afae-4038-d762-3357965a0523"
      },
      "execution_count": null,
      "outputs": [
        {
          "output_type": "execute_result",
          "data": {
            "text/plain": [
              "0.1287001287001287"
            ]
          },
          "metadata": {},
          "execution_count": 47
        }
      ]
    },
    {
      "cell_type": "code",
      "source": [
        "print('The result was {}'.format(result))"
      ],
      "metadata": {
        "colab": {
          "base_uri": "https://localhost:8080/"
        },
        "id": "EbCtF58zti8P",
        "outputId": "a8723b29-7963-43ad-e65a-5e0e7d36d664"
      },
      "execution_count": null,
      "outputs": [
        {
          "output_type": "stream",
          "name": "stdout",
          "text": [
            "The result was 0.1287001287001287\n"
          ]
        }
      ]
    },
    {
      "cell_type": "code",
      "source": [
        "print('The result was {r:1.2f}'.format(r=result))"
      ],
      "metadata": {
        "colab": {
          "base_uri": "https://localhost:8080/"
        },
        "id": "GbG7yae1txba",
        "outputId": "6174b479-5f33-42fa-9666-66c63ae386e1"
      },
      "execution_count": null,
      "outputs": [
        {
          "output_type": "stream",
          "name": "stdout",
          "text": [
            "The result was 0.13\n"
          ]
        }
      ]
    },
    {
      "cell_type": "code",
      "source": [
        "print('The result was {r:50.2f}%'.format(r=result*100))"
      ],
      "metadata": {
        "colab": {
          "base_uri": "https://localhost:8080/"
        },
        "id": "MifQaUtSuTbR",
        "outputId": "9f1837ce-5314-4197-f726-30f8b92e64a5"
      },
      "execution_count": null,
      "outputs": [
        {
          "output_type": "stream",
          "name": "stdout",
          "text": [
            "The result was                                              12.87%\n"
          ]
        }
      ]
    },
    {
      "cell_type": "code",
      "source": [
        "# with f-strings method (formatted string literals)"
      ],
      "metadata": {
        "id": "RvFCK-FUvQ0H"
      },
      "execution_count": null,
      "outputs": []
    },
    {
      "cell_type": "code",
      "source": [
        "name = 'Jose'"
      ],
      "metadata": {
        "id": "vo_bPo9KvhqI"
      },
      "execution_count": null,
      "outputs": []
    },
    {
      "cell_type": "code",
      "source": [
        "print(f'Hello, his name is {name}')"
      ],
      "metadata": {
        "colab": {
          "base_uri": "https://localhost:8080/"
        },
        "id": "Ka2EHWzFvpv2",
        "outputId": "e34c2040-cd32-4d20-c04f-47eea5501111"
      },
      "execution_count": null,
      "outputs": [
        {
          "output_type": "stream",
          "name": "stdout",
          "text": [
            "Hello, his name is Jose\n"
          ]
        }
      ]
    },
    {
      "cell_type": "code",
      "source": [
        "#The answer above compares with the .format method such as this...\n",
        "print('Hello, his name is {n}'.format(n=name))"
      ],
      "metadata": {
        "colab": {
          "base_uri": "https://localhost:8080/"
        },
        "id": "b0847wCgwBRT",
        "outputId": "491f83bc-1493-485f-a9d5-e7a7dfa0cc0c"
      },
      "execution_count": null,
      "outputs": [
        {
          "output_type": "stream",
          "name": "stdout",
          "text": [
            "Hello, his name is Jose\n"
          ]
        }
      ]
    },
    {
      "cell_type": "code",
      "source": [
        "# using f-strings with float formatting \"{value:width.precision f}\"\n",
        "print(f'The result was {result*100:1.2f}%')"
      ],
      "metadata": {
        "colab": {
          "base_uri": "https://localhost:8080/"
        },
        "id": "hMnKi_zZwYfd",
        "outputId": "101340c0-ad21-4b18-f904-d00faf5fd03f"
      },
      "execution_count": null,
      "outputs": [
        {
          "output_type": "stream",
          "name": "stdout",
          "text": [
            "The result was 12.87%\n"
          ]
        }
      ]
    },
    {
      "cell_type": "code",
      "source": [
        "name = 'Sam'\n",
        "age = 3"
      ],
      "metadata": {
        "id": "5ta1LNHFwzVI"
      },
      "execution_count": null,
      "outputs": []
    },
    {
      "cell_type": "code",
      "source": [
        "print(f'This is {name}, he is {age} years old!')"
      ],
      "metadata": {
        "colab": {
          "base_uri": "https://localhost:8080/"
        },
        "id": "gqnOPoiMxn9s",
        "outputId": "3d3dc173-1307-482d-b350-3831e5d87d65"
      },
      "execution_count": null,
      "outputs": [
        {
          "output_type": "stream",
          "name": "stdout",
          "text": [
            "This is Sam, he is 3 years old!\n"
          ]
        }
      ]
    },
    {
      "cell_type": "code",
      "source": [],
      "metadata": {
        "id": "hV16O0RAx0t_"
      },
      "execution_count": null,
      "outputs": []
    },
    {
      "cell_type": "markdown",
      "source": [
        "# **LISTS IN PYTHON**"
      ],
      "metadata": {
        "id": "Wtpn7teh1U4G"
      }
    },
    {
      "cell_type": "code",
      "source": [
        "my_list = [1,2,3]\n",
        "len(my_list)"
      ],
      "metadata": {
        "colab": {
          "base_uri": "https://localhost:8080/"
        },
        "id": "0kEhnyWw1qFV",
        "outputId": "20750b43-7414-4771-a74a-b1e52a53c118"
      },
      "execution_count": null,
      "outputs": [
        {
          "output_type": "execute_result",
          "data": {
            "text/plain": [
              "3"
            ]
          },
          "metadata": {},
          "execution_count": 121
        }
      ]
    },
    {
      "cell_type": "code",
      "source": [
        "my_list [2]"
      ],
      "metadata": {
        "colab": {
          "base_uri": "https://localhost:8080/"
        },
        "id": "uSEUm-xA14qt",
        "outputId": "1179fbc7-86b9-4f05-eb23-21effb8025c0"
      },
      "execution_count": null,
      "outputs": [
        {
          "output_type": "execute_result",
          "data": {
            "text/plain": [
              "3"
            ]
          },
          "metadata": {},
          "execution_count": 122
        }
      ]
    },
    {
      "cell_type": "code",
      "source": [
        "my_list_2 = [4,5,6]"
      ],
      "metadata": {
        "id": "WsCdCj-Z1-1e"
      },
      "execution_count": null,
      "outputs": []
    },
    {
      "cell_type": "code",
      "source": [
        "# combining 2 lists\n",
        "new_list = my_list + my_list_2\n",
        "new_list"
      ],
      "metadata": {
        "colab": {
          "base_uri": "https://localhost:8080/"
        },
        "id": "nsUHjfnF2Jne",
        "outputId": "8fc55be8-10f3-4828-8226-a82bea86e3fe"
      },
      "execution_count": null,
      "outputs": [
        {
          "output_type": "execute_result",
          "data": {
            "text/plain": [
              "[1, 2, 3, 4, 5, 6]"
            ]
          },
          "metadata": {},
          "execution_count": 136
        }
      ]
    },
    {
      "cell_type": "code",
      "source": [
        "# To change a list using indexing\n",
        "new_list [5] = 7\n",
        "new_list"
      ],
      "metadata": {
        "colab": {
          "base_uri": "https://localhost:8080/"
        },
        "id": "zujc_Ef02NuD",
        "outputId": "8615798a-d9ec-4c59-9dd9-6dcac76e64ee"
      },
      "execution_count": null,
      "outputs": [
        {
          "output_type": "execute_result",
          "data": {
            "text/plain": [
              "[1, 2, 3, 4, 5, 7]"
            ]
          },
          "metadata": {},
          "execution_count": 137
        }
      ]
    },
    {
      "cell_type": "code",
      "source": [
        "# To add items to a list (Append)\n",
        "new_list.append(6)\n",
        "new_list"
      ],
      "metadata": {
        "colab": {
          "base_uri": "https://localhost:8080/"
        },
        "id": "3EtdMupm2rbs",
        "outputId": "34bdbcaf-a702-4d07-b468-4eeb5cf92e8e"
      },
      "execution_count": null,
      "outputs": [
        {
          "output_type": "execute_result",
          "data": {
            "text/plain": [
              "[1, 2, 3, 4, 5, 7, 6]"
            ]
          },
          "metadata": {},
          "execution_count": 138
        }
      ]
    },
    {
      "cell_type": "code",
      "source": [
        "new_list.sort()\n",
        "new_list"
      ],
      "metadata": {
        "colab": {
          "base_uri": "https://localhost:8080/"
        },
        "id": "-WTdDT1M24qH",
        "outputId": "37689fe0-83c4-4c02-db07-4dcdab0123b2"
      },
      "execution_count": null,
      "outputs": [
        {
          "output_type": "execute_result",
          "data": {
            "text/plain": [
              "[1, 2, 3, 4, 5, 6, 7]"
            ]
          },
          "metadata": {},
          "execution_count": 140
        }
      ]
    },
    {
      "cell_type": "code",
      "source": [
        "# To remove the last item in a list, pop()\n",
        "new_list.pop()"
      ],
      "metadata": {
        "colab": {
          "base_uri": "https://localhost:8080/"
        },
        "id": "hWWTaWY93jE4",
        "outputId": "a9c25927-8b3d-4bae-ef82-8b8aebce6deb"
      },
      "execution_count": null,
      "outputs": [
        {
          "output_type": "execute_result",
          "data": {
            "text/plain": [
              "7"
            ]
          },
          "metadata": {},
          "execution_count": 141
        }
      ]
    },
    {
      "cell_type": "code",
      "source": [
        "new_list"
      ],
      "metadata": {
        "colab": {
          "base_uri": "https://localhost:8080/"
        },
        "id": "FmDgI3mn4FEN",
        "outputId": "c9cc8de7-3245-428d-d153-cac4e192d615"
      },
      "execution_count": null,
      "outputs": [
        {
          "output_type": "execute_result",
          "data": {
            "text/plain": [
              "[1, 2, 3, 4, 5, 6]"
            ]
          },
          "metadata": {},
          "execution_count": 142
        }
      ]
    },
    {
      "cell_type": "code",
      "source": [
        "popped_item = new_list.pop()\n",
        "popped_item"
      ],
      "metadata": {
        "colab": {
          "base_uri": "https://localhost:8080/"
        },
        "id": "ZC9k3Lf94Lh8",
        "outputId": "89e78a32-f46a-49fb-b852-e8793579b38c"
      },
      "execution_count": null,
      "outputs": [
        {
          "output_type": "execute_result",
          "data": {
            "text/plain": [
              "6"
            ]
          },
          "metadata": {},
          "execution_count": 143
        }
      ]
    },
    {
      "cell_type": "code",
      "source": [
        "new_list"
      ],
      "metadata": {
        "colab": {
          "base_uri": "https://localhost:8080/"
        },
        "id": "FGJ5SOSD4slz",
        "outputId": "4f8cd07a-2e78-4122-a22a-8f24e778e32b"
      },
      "execution_count": null,
      "outputs": [
        {
          "output_type": "execute_result",
          "data": {
            "text/plain": [
              "[1, 2, 3, 4, 5]"
            ]
          },
          "metadata": {},
          "execution_count": 144
        }
      ]
    },
    {
      "cell_type": "code",
      "source": [
        "new_list.append(6)\n",
        "new_list.append(7)\n",
        "new_list"
      ],
      "metadata": {
        "colab": {
          "base_uri": "https://localhost:8080/"
        },
        "id": "Tr0BlgFY4uKl",
        "outputId": "074b7460-2707-4b36-8b51-9ea88791e91a"
      },
      "execution_count": null,
      "outputs": [
        {
          "output_type": "execute_result",
          "data": {
            "text/plain": [
              "[1, 2, 3, 4, 5, 6, 7]"
            ]
          },
          "metadata": {},
          "execution_count": 146
        }
      ]
    },
    {
      "cell_type": "code",
      "source": [
        "# Reverse listing\n",
        "new_list.reverse()\n",
        "new_list"
      ],
      "metadata": {
        "colab": {
          "base_uri": "https://localhost:8080/"
        },
        "id": "jIuNvMJs40q_",
        "outputId": "1fc3feea-a7c6-4785-8ee6-80f665ea45e2"
      },
      "execution_count": null,
      "outputs": [
        {
          "output_type": "execute_result",
          "data": {
            "text/plain": [
              "[7, 6, 5, 4, 3, 2, 1]"
            ]
          },
          "metadata": {},
          "execution_count": 147
        }
      ]
    },
    {
      "cell_type": "markdown",
      "source": [
        "# **DICTIONARIES**"
      ],
      "metadata": {
        "id": "AoGVOhkl0oxc"
      }
    },
    {
      "cell_type": "code",
      "source": [
        "# Dictionaries use curly braces and colons to signify the keys and their associated values. You call the keys for dictionaries instead of index (lists)"
      ],
      "metadata": {
        "id": "s8H9wQDz5aA_"
      },
      "execution_count": null,
      "outputs": []
    },
    {
      "cell_type": "code",
      "source": [
        "my_dict = {'key1':'value1','key2':'value2'}"
      ],
      "metadata": {
        "id": "tgFYhV0h09he"
      },
      "execution_count": null,
      "outputs": []
    },
    {
      "cell_type": "code",
      "source": [
        "my_dict"
      ],
      "metadata": {
        "colab": {
          "base_uri": "https://localhost:8080/"
        },
        "id": "9h2nXNK_1iNr",
        "outputId": "abfc356a-3f9a-4937-95c4-8f8e4b8f9118"
      },
      "execution_count": null,
      "outputs": [
        {
          "output_type": "execute_result",
          "data": {
            "text/plain": [
              "{'key1': 'value1', 'key2': 'value2'}"
            ]
          },
          "metadata": {},
          "execution_count": 2
        }
      ]
    },
    {
      "cell_type": "code",
      "source": [
        "my_dict['key2']"
      ],
      "metadata": {
        "colab": {
          "base_uri": "https://localhost:8080/",
          "height": 36
        },
        "id": "fIiJeh4T1jYj",
        "outputId": "36f223e0-553d-4f30-d05a-e016b1ec591c"
      },
      "execution_count": null,
      "outputs": [
        {
          "output_type": "execute_result",
          "data": {
            "text/plain": [
              "'value2'"
            ],
            "application/vnd.google.colaboratory.intrinsic+json": {
              "type": "string"
            }
          },
          "metadata": {},
          "execution_count": 3
        }
      ]
    },
    {
      "cell_type": "code",
      "source": [
        "print(my_dict['key1'])"
      ],
      "metadata": {
        "colab": {
          "base_uri": "https://localhost:8080/"
        },
        "id": "EVUqK82K1q98",
        "outputId": "2a216d03-427c-4242-a4cf-145f57a30c47"
      },
      "execution_count": null,
      "outputs": [
        {
          "output_type": "stream",
          "name": "stdout",
          "text": [
            "value1\n"
          ]
        }
      ]
    },
    {
      "cell_type": "code",
      "source": [
        "# Dictionaries can contain lists and other dictionaries\n",
        "d = {'k1':123,'k2':[1,2,3],'k3':{'InsideKey':100}}\n",
        "d['k3']"
      ],
      "metadata": {
        "colab": {
          "base_uri": "https://localhost:8080/"
        },
        "id": "kd6YxnPJ1yKI",
        "outputId": "01711fc0-501d-4ec1-83af-9e2d63d9d337"
      },
      "execution_count": null,
      "outputs": [
        {
          "output_type": "execute_result",
          "data": {
            "text/plain": [
              "{'InsideKey': 100}"
            ]
          },
          "metadata": {},
          "execution_count": 10
        }
      ]
    },
    {
      "cell_type": "code",
      "source": [
        "d['k2'][0]"
      ],
      "metadata": {
        "colab": {
          "base_uri": "https://localhost:8080/"
        },
        "id": "1fnLss4N2sYn",
        "outputId": "908a802d-0730-41f5-b7a1-c547dd853d8a"
      },
      "execution_count": null,
      "outputs": [
        {
          "output_type": "execute_result",
          "data": {
            "text/plain": [
              "1"
            ]
          },
          "metadata": {},
          "execution_count": 9
        }
      ]
    },
    {
      "cell_type": "markdown",
      "source": [
        "Using Python to write 1 line solution to change dictionary/list to upper case"
      ],
      "metadata": {
        "id": "gjdza48uAfZv"
      }
    },
    {
      "cell_type": "code",
      "source": [
        "d = {'key1':['a','b','c']}\n",
        "d"
      ],
      "metadata": {
        "colab": {
          "base_uri": "https://localhost:8080/"
        },
        "id": "fGc83Xjy4WTx",
        "outputId": "006acfa6-6008-4127-9051-8b3db789ceb0"
      },
      "execution_count": null,
      "outputs": [
        {
          "output_type": "execute_result",
          "data": {
            "text/plain": [
              "{'key1': ['a', 'b', 'c']}"
            ]
          },
          "metadata": {},
          "execution_count": 25
        }
      ]
    },
    {
      "cell_type": "code",
      "source": [
        "my_list = d['key1']\n",
        "my_list"
      ],
      "metadata": {
        "colab": {
          "base_uri": "https://localhost:8080/"
        },
        "id": "oLu_Skt6--iK",
        "outputId": "a69796bf-d52b-4ae6-b8f5-e18e984584ea"
      },
      "execution_count": null,
      "outputs": [
        {
          "output_type": "execute_result",
          "data": {
            "text/plain": [
              "['a', 'b', 'c']"
            ]
          },
          "metadata": {},
          "execution_count": 26
        }
      ]
    },
    {
      "cell_type": "code",
      "source": [
        "my_list[1]"
      ],
      "metadata": {
        "colab": {
          "base_uri": "https://localhost:8080/",
          "height": 36
        },
        "id": "Gz_cqKUh_FVr",
        "outputId": "fb0c352f-a1ee-4e4c-adb3-999128428ec0"
      },
      "execution_count": null,
      "outputs": [
        {
          "output_type": "execute_result",
          "data": {
            "text/plain": [
              "'b'"
            ],
            "application/vnd.google.colaboratory.intrinsic+json": {
              "type": "string"
            }
          },
          "metadata": {},
          "execution_count": 27
        }
      ]
    },
    {
      "cell_type": "code",
      "source": [
        "my_list[1].upper()"
      ],
      "metadata": {
        "colab": {
          "base_uri": "https://localhost:8080/",
          "height": 36
        },
        "id": "E6vrzoyl_VMW",
        "outputId": "c85efb79-86a2-4caa-8214-f1b4c34db16b"
      },
      "execution_count": null,
      "outputs": [
        {
          "output_type": "execute_result",
          "data": {
            "text/plain": [
              "'B'"
            ],
            "application/vnd.google.colaboratory.intrinsic+json": {
              "type": "string"
            }
          },
          "metadata": {},
          "execution_count": 28
        }
      ]
    },
    {
      "cell_type": "code",
      "source": [
        "# One line solution to the above codes\n",
        "d['key1'][1].upper()"
      ],
      "metadata": {
        "colab": {
          "base_uri": "https://localhost:8080/",
          "height": 36
        },
        "id": "ov7mSsskAYpO",
        "outputId": "0eb69c02-78ce-4afe-cefd-e41ac0cd1548"
      },
      "execution_count": null,
      "outputs": [
        {
          "output_type": "execute_result",
          "data": {
            "text/plain": [
              "'B'"
            ],
            "application/vnd.google.colaboratory.intrinsic+json": {
              "type": "string"
            }
          },
          "metadata": {},
          "execution_count": 32
        }
      ]
    },
    {
      "cell_type": "code",
      "source": [
        "# Adding to a dictionary"
      ],
      "metadata": {
        "id": "iQnTHGsMBO-4"
      },
      "execution_count": null,
      "outputs": []
    },
    {
      "cell_type": "code",
      "source": [
        "d['key2'] = ['d','e','f','g']"
      ],
      "metadata": {
        "id": "NVHYkW_oBtei"
      },
      "execution_count": null,
      "outputs": []
    },
    {
      "cell_type": "code",
      "source": [
        "d"
      ],
      "metadata": {
        "colab": {
          "base_uri": "https://localhost:8080/"
        },
        "id": "Yixpzd8FCHPG",
        "outputId": "d6f828e1-0c64-4a05-9e60-8b23e2e521a1"
      },
      "execution_count": null,
      "outputs": [
        {
          "output_type": "execute_result",
          "data": {
            "text/plain": [
              "{'key1': ['a', 'b', 'c'], 'key2': ['d', 'e', 'f', 'g']}"
            ]
          },
          "metadata": {},
          "execution_count": 35
        }
      ]
    },
    {
      "cell_type": "markdown",
      "source": [
        "**KEYS, VALUES AND ITEMS**"
      ],
      "metadata": {
        "id": "Gy_BOL68I_Wl"
      }
    },
    {
      "cell_type": "code",
      "source": [
        "# to show all the keys\n",
        "d.keys()"
      ],
      "metadata": {
        "colab": {
          "base_uri": "https://localhost:8080/"
        },
        "id": "HNg4hQHXCJhG",
        "outputId": "909e5960-69cc-4ef5-b0dc-11353bce890d"
      },
      "execution_count": null,
      "outputs": [
        {
          "output_type": "execute_result",
          "data": {
            "text/plain": [
              "dict_keys(['key1', 'key2'])"
            ]
          },
          "metadata": {},
          "execution_count": 36
        }
      ]
    },
    {
      "cell_type": "code",
      "source": [
        "# to show all the values\n",
        "d.values()"
      ],
      "metadata": {
        "colab": {
          "base_uri": "https://localhost:8080/"
        },
        "id": "RxjgUpmQIVUq",
        "outputId": "64c7e721-5030-40aa-b980-a9a8838193bf"
      },
      "execution_count": null,
      "outputs": [
        {
          "output_type": "execute_result",
          "data": {
            "text/plain": [
              "dict_values([['a', 'b', 'c'], ['d', 'e', 'f', 'g']])"
            ]
          },
          "metadata": {},
          "execution_count": 37
        }
      ]
    },
    {
      "cell_type": "code",
      "source": [
        "# to show all items, listed in tuples\n",
        "d.items()"
      ],
      "metadata": {
        "colab": {
          "base_uri": "https://localhost:8080/"
        },
        "id": "oyPqicW4IcpK",
        "outputId": "6f5abe59-a2e8-412e-d94a-dbe7f4fabaae"
      },
      "execution_count": null,
      "outputs": [
        {
          "output_type": "execute_result",
          "data": {
            "text/plain": [
              "dict_items([('key1', ['a', 'b', 'c']), ('key2', ['d', 'e', 'f', 'g'])])"
            ]
          },
          "metadata": {},
          "execution_count": 39
        }
      ]
    },
    {
      "cell_type": "code",
      "source": [],
      "metadata": {
        "id": "aNgJ6eycIhVN"
      },
      "execution_count": null,
      "outputs": []
    },
    {
      "cell_type": "markdown",
      "source": [
        "# **TUPLES**"
      ],
      "metadata": {
        "id": "wL2Q1gKIKtDY"
      }
    },
    {
      "cell_type": "markdown",
      "source": [
        "TUPLES ARE IMMUTABLE"
      ],
      "metadata": {
        "id": "0FI0harRK-kl"
      }
    },
    {
      "cell_type": "code",
      "source": [
        "t = (1,2,3)\n",
        "my_list = [1,2,3]"
      ],
      "metadata": {
        "id": "ODEEfmU1K3Sx"
      },
      "execution_count": null,
      "outputs": []
    },
    {
      "cell_type": "code",
      "source": [
        "type(t)"
      ],
      "metadata": {
        "colab": {
          "base_uri": "https://localhost:8080/"
        },
        "id": "cn6kwho1LSmD",
        "outputId": "cf651223-c78d-4ec2-e5e5-9bbade8ed1f1"
      },
      "execution_count": null,
      "outputs": [
        {
          "output_type": "execute_result",
          "data": {
            "text/plain": [
              "tuple"
            ]
          },
          "metadata": {},
          "execution_count": 59
        }
      ]
    },
    {
      "cell_type": "code",
      "source": [
        "type(my_list)"
      ],
      "metadata": {
        "colab": {
          "base_uri": "https://localhost:8080/"
        },
        "id": "YXdxvVbALXKv",
        "outputId": "87abe7cd-fb02-4f59-f02f-f42db83112b5"
      },
      "execution_count": null,
      "outputs": [
        {
          "output_type": "execute_result",
          "data": {
            "text/plain": [
              "list"
            ]
          },
          "metadata": {},
          "execution_count": 60
        }
      ]
    },
    {
      "cell_type": "code",
      "source": [
        "t[-1]"
      ],
      "metadata": {
        "colab": {
          "base_uri": "https://localhost:8080/"
        },
        "id": "iJnABj2RLaaz",
        "outputId": "2e83f485-91a6-48e6-8b05-2cac43b9ba91"
      },
      "execution_count": null,
      "outputs": [
        {
          "output_type": "execute_result",
          "data": {
            "text/plain": [
              "3"
            ]
          },
          "metadata": {},
          "execution_count": 64
        }
      ]
    },
    {
      "cell_type": "markdown",
      "source": [
        "# **SETS**"
      ],
      "metadata": {
        "id": "dRkKsWO8lsjv"
      }
    },
    {
      "cell_type": "code",
      "source": [
        "# Sets have unique values only"
      ],
      "metadata": {
        "id": "lhN__1a4mQyq"
      },
      "execution_count": null,
      "outputs": []
    },
    {
      "cell_type": "code",
      "source": [
        "myset = set()"
      ],
      "metadata": {
        "id": "e55TiCcFLev0"
      },
      "execution_count": null,
      "outputs": []
    },
    {
      "cell_type": "code",
      "source": [
        "myset"
      ],
      "metadata": {
        "colab": {
          "base_uri": "https://localhost:8080/"
        },
        "id": "wYbvevaKl6ka",
        "outputId": "e7a907cd-32ea-4076-f79c-e765a971364d"
      },
      "execution_count": null,
      "outputs": [
        {
          "output_type": "execute_result",
          "data": {
            "text/plain": [
              "set()"
            ]
          },
          "metadata": {},
          "execution_count": 2
        }
      ]
    },
    {
      "cell_type": "code",
      "source": [
        "myset.add(1)"
      ],
      "metadata": {
        "id": "FsaeAOHtl-fC"
      },
      "execution_count": null,
      "outputs": []
    },
    {
      "cell_type": "code",
      "source": [
        "myset"
      ],
      "metadata": {
        "colab": {
          "base_uri": "https://localhost:8080/"
        },
        "id": "LhoFVFPqmBaq",
        "outputId": "8e0874d0-8646-465b-9905-d9abb86b4bef"
      },
      "execution_count": null,
      "outputs": [
        {
          "output_type": "execute_result",
          "data": {
            "text/plain": [
              "{1}"
            ]
          },
          "metadata": {},
          "execution_count": 4
        }
      ]
    },
    {
      "cell_type": "code",
      "source": [
        "myset.add(2)"
      ],
      "metadata": {
        "id": "0P-AHZWCmEAP"
      },
      "execution_count": null,
      "outputs": []
    },
    {
      "cell_type": "code",
      "source": [
        "myset"
      ],
      "metadata": {
        "colab": {
          "base_uri": "https://localhost:8080/"
        },
        "id": "Fgv0uvh8mKQ4",
        "outputId": "47019ce3-27f2-4804-9eeb-20d09efc9451"
      },
      "execution_count": null,
      "outputs": [
        {
          "output_type": "execute_result",
          "data": {
            "text/plain": [
              "{1, 2}"
            ]
          },
          "metadata": {},
          "execution_count": 6
        }
      ]
    },
    {
      "cell_type": "code",
      "source": [
        "# Adding duplicate entries from a list to a set\n",
        "mylist = [1,1,1,1,1,1,2,2,2,3,3,3]\n",
        "set(mylist)"
      ],
      "metadata": {
        "colab": {
          "base_uri": "https://localhost:8080/"
        },
        "id": "54T2jdw8mK2l",
        "outputId": "93bc0334-158e-4a64-8f3e-ba50136d54d0"
      },
      "execution_count": null,
      "outputs": [
        {
          "output_type": "execute_result",
          "data": {
            "text/plain": [
              "{1, 2, 3}"
            ]
          },
          "metadata": {},
          "execution_count": 10
        }
      ]
    },
    {
      "cell_type": "markdown",
      "source": [
        "# **BOOLEANS**"
      ],
      "metadata": {
        "id": "M1tQfli6nmuC"
      }
    },
    {
      "cell_type": "code",
      "source": [
        "# True or False in Python need to be capitalized"
      ],
      "metadata": {
        "id": "YUeMBYCumtl3"
      },
      "execution_count": null,
      "outputs": []
    },
    {
      "cell_type": "code",
      "source": [
        "True\n",
        "type(True)"
      ],
      "metadata": {
        "colab": {
          "base_uri": "https://localhost:8080/"
        },
        "id": "orUylIivoh9l",
        "outputId": "bbad8f36-f233-47ba-e9ca-8e6f72303de7"
      },
      "execution_count": null,
      "outputs": [
        {
          "output_type": "execute_result",
          "data": {
            "text/plain": [
              "bool"
            ]
          },
          "metadata": {},
          "execution_count": 12
        }
      ]
    },
    {
      "cell_type": "code",
      "source": [
        "1 > 2"
      ],
      "metadata": {
        "colab": {
          "base_uri": "https://localhost:8080/"
        },
        "id": "gPEdp7o8oll6",
        "outputId": "83fe950f-9f0d-43d5-9f5c-9996975bc2ef"
      },
      "execution_count": null,
      "outputs": [
        {
          "output_type": "execute_result",
          "data": {
            "text/plain": [
              "False"
            ]
          },
          "metadata": {},
          "execution_count": 14
        }
      ]
    },
    {
      "cell_type": "code",
      "source": [
        "1==1"
      ],
      "metadata": {
        "colab": {
          "base_uri": "https://localhost:8080/"
        },
        "id": "jx9yb308oxhA",
        "outputId": "84d410a1-d0cd-45ae-f370-11813f90f8bb"
      },
      "execution_count": null,
      "outputs": [
        {
          "output_type": "execute_result",
          "data": {
            "text/plain": [
              "True"
            ]
          },
          "metadata": {},
          "execution_count": 15
        }
      ]
    },
    {
      "cell_type": "code",
      "source": [
        "b = None"
      ],
      "metadata": {
        "id": "kDGDiDgdo3XX"
      },
      "execution_count": null,
      "outputs": []
    },
    {
      "cell_type": "code",
      "source": [
        "type(b)"
      ],
      "metadata": {
        "colab": {
          "base_uri": "https://localhost:8080/"
        },
        "id": "F2oiKK7bo9bK",
        "outputId": "258e0d3b-f73b-411c-c742-2375181e704c"
      },
      "execution_count": null,
      "outputs": [
        {
          "output_type": "execute_result",
          "data": {
            "text/plain": [
              "NoneType"
            ]
          },
          "metadata": {},
          "execution_count": 18
        }
      ]
    },
    {
      "cell_type": "markdown",
      "source": [
        "# **Basic Input/Output (I/O) with Basic Files in Python**"
      ],
      "metadata": {
        "id": "l_RiBZG2ps_i"
      }
    },
    {
      "cell_type": "code",
      "source": [
        "%%writefile myfile.txt\n",
        "Hello this is a text file\n",
        "This is the second line\n",
        "This is the third line"
      ],
      "metadata": {
        "colab": {
          "base_uri": "https://localhost:8080/"
        },
        "id": "4Wb7J8ekpFCr",
        "outputId": "bc539d5f-f075-45e4-a357-8c6bf83c9f61"
      },
      "execution_count": null,
      "outputs": [
        {
          "output_type": "stream",
          "name": "stdout",
          "text": [
            "Overwriting myfile.txt\n"
          ]
        }
      ]
    },
    {
      "cell_type": "code",
      "source": [
        "myfile = open('myfile.txt')"
      ],
      "metadata": {
        "id": "IQZQsAKnqzP8"
      },
      "execution_count": null,
      "outputs": []
    },
    {
      "cell_type": "code",
      "source": [
        "pwd"
      ],
      "metadata": {
        "colab": {
          "base_uri": "https://localhost:8080/",
          "height": 36
        },
        "id": "BEl9cxGxrLC-",
        "outputId": "acb58b85-7a0f-4a0a-96b4-15a8417d06f4"
      },
      "execution_count": null,
      "outputs": [
        {
          "output_type": "execute_result",
          "data": {
            "text/plain": [
              "'/content'"
            ],
            "application/vnd.google.colaboratory.intrinsic+json": {
              "type": "string"
            }
          },
          "metadata": {},
          "execution_count": 22
        }
      ]
    },
    {
      "cell_type": "code",
      "source": [
        "myfile = open('myfile.txt')\n",
        "myfile.read()"
      ],
      "metadata": {
        "id": "L5Ih_r8rx5L2",
        "colab": {
          "base_uri": "https://localhost:8080/",
          "height": 36
        },
        "outputId": "a922ec6e-ce2c-468d-8800-1379876084f7"
      },
      "execution_count": null,
      "outputs": [
        {
          "output_type": "execute_result",
          "data": {
            "text/plain": [
              "'Hello this is a text file\\nThis is the second line\\nThis is the third line\\n'"
            ],
            "application/vnd.google.colaboratory.intrinsic+json": {
              "type": "string"
            }
          },
          "metadata": {},
          "execution_count": 34
        }
      ]
    },
    {
      "cell_type": "code",
      "source": [
        "# If you try to read the file again you get an empty string\n",
        "myfile.read()"
      ],
      "metadata": {
        "colab": {
          "base_uri": "https://localhost:8080/",
          "height": 36
        },
        "id": "hxd9q5qm2wYW",
        "outputId": "ee5ce008-ac5b-48e8-9ad1-2601768e7847"
      },
      "execution_count": null,
      "outputs": [
        {
          "output_type": "execute_result",
          "data": {
            "text/plain": [
              "''"
            ],
            "application/vnd.google.colaboratory.intrinsic+json": {
              "type": "string"
            }
          },
          "metadata": {},
          "execution_count": 35
        }
      ]
    },
    {
      "cell_type": "code",
      "source": [
        "# To read the file again, you need to reset the cursor to position zero\n",
        "myfile.seek(0)"
      ],
      "metadata": {
        "colab": {
          "base_uri": "https://localhost:8080/"
        },
        "id": "J4pUXaC33Iz9",
        "outputId": "96c93e6c-244b-48e0-ef23-bbad70976faa"
      },
      "execution_count": null,
      "outputs": [
        {
          "output_type": "execute_result",
          "data": {
            "text/plain": [
              "0"
            ]
          },
          "metadata": {},
          "execution_count": 36
        }
      ]
    },
    {
      "cell_type": "code",
      "source": [
        "# Now run again\n",
        "myfile.read()"
      ],
      "metadata": {
        "colab": {
          "base_uri": "https://localhost:8080/",
          "height": 36
        },
        "id": "MgE73wJ43Oys",
        "outputId": "dfd004d9-a258-4d0b-ce1e-f0ac3ada1708"
      },
      "execution_count": null,
      "outputs": [
        {
          "output_type": "execute_result",
          "data": {
            "text/plain": [
              "'Hello this is a text file\\nThis is the second line\\nThis is the third line\\n'"
            ],
            "application/vnd.google.colaboratory.intrinsic+json": {
              "type": "string"
            }
          },
          "metadata": {},
          "execution_count": 37
        }
      ]
    },
    {
      "cell_type": "code",
      "source": [
        "# If you want to read text by line, use .readlines()\n",
        "myfile.seek(0)\n",
        "myfile.readlines()"
      ],
      "metadata": {
        "colab": {
          "base_uri": "https://localhost:8080/"
        },
        "id": "Gr9onTtP3Rjr",
        "outputId": "aa765ac7-bbf1-4248-97de-81eabdb82b6c"
      },
      "execution_count": null,
      "outputs": [
        {
          "output_type": "execute_result",
          "data": {
            "text/plain": [
              "['Hello this is a text file\\n',\n",
              " 'This is the second line\\n',\n",
              " 'This is the third line\\n']"
            ]
          },
          "metadata": {},
          "execution_count": 42
        }
      ]
    },
    {
      "cell_type": "code",
      "source": [
        "# For Windows you need to use double \\ so python doesn't treat the second \\ as an escape character, a file path is in the form:\n",
        "# myfile = open(\"C:\\\\Users\\\\YourUserName\\\\Home\\\\Folder\\\\myfile.txt\")"
      ],
      "metadata": {
        "id": "wPSQV26w4Dto"
      },
      "execution_count": null,
      "outputs": []
    },
    {
      "cell_type": "code",
      "source": [
        "myfile.close()"
      ],
      "metadata": {
        "id": "PzAX3uMG52Uc"
      },
      "execution_count": null,
      "outputs": []
    },
    {
      "cell_type": "code",
      "source": [
        "# Usually best to open a file with a 'with/as' argument and an alias for file name, so that you don't have to deal with closing original file."
      ],
      "metadata": {
        "id": "IlJCJ_ng6JTt"
      },
      "execution_count": null,
      "outputs": []
    },
    {
      "cell_type": "code",
      "source": [
        "with open('myfile.txt') as my_new_file:\n",
        "  contents = my_new_file.read()"
      ],
      "metadata": {
        "id": "EB6r8nlB6jUs"
      },
      "execution_count": null,
      "outputs": []
    },
    {
      "cell_type": "code",
      "source": [
        "contents"
      ],
      "metadata": {
        "colab": {
          "base_uri": "https://localhost:8080/",
          "height": 36
        },
        "id": "sL10bfKs69mg",
        "outputId": "427d518a-f91d-4ed6-a4ec-3bb68407d7d8"
      },
      "execution_count": null,
      "outputs": [
        {
          "output_type": "execute_result",
          "data": {
            "text/plain": [
              "'Hello this is a text file\\nThis is the second line\\nThis is the third line\\n'"
            ],
            "application/vnd.google.colaboratory.intrinsic+json": {
              "type": "string"
            }
          },
          "metadata": {},
          "execution_count": 51
        }
      ]
    },
    {
      "cell_type": "markdown",
      "source": [
        "**Writing and Over-writing files**"
      ],
      "metadata": {
        "id": "YcOjDcML7nno"
      }
    },
    {
      "cell_type": "code",
      "source": [
        "# You can add conditions to the open() method, options can be seen when clicking on the open parenthesis\n",
        "with open('myfile.txt',mode='r') as myfile:\n",
        "  contents = myfile.read()"
      ],
      "metadata": {
        "id": "04oX0mRd7YgY"
      },
      "execution_count": null,
      "outputs": []
    },
    {
      "cell_type": "code",
      "source": [
        "contents"
      ],
      "metadata": {
        "colab": {
          "base_uri": "https://localhost:8080/",
          "height": 36
        },
        "id": "sKlYcgoc9FHO",
        "outputId": "eeb8d1b1-6274-49da-c2c9-53cb15819522"
      },
      "execution_count": null,
      "outputs": [
        {
          "output_type": "execute_result",
          "data": {
            "text/plain": [
              "'Hello this is a text file\\nThis is the second line\\nThis is the third line\\n'"
            ],
            "application/vnd.google.colaboratory.intrinsic+json": {
              "type": "string"
            }
          },
          "metadata": {},
          "execution_count": 55
        }
      ]
    },
    {
      "cell_type": "markdown",
      "source": [
        "**Mode\tMeaning**\n",
        "*   'r'   - open for reading (default)\n",
        "*   'w'   - open for writing, truncating the file first (will overite existing file or create new)\n",
        "*   'x'   - create a new file and open it for writing\n",
        "*   'a'   - open for writing, appending to the end of the file if it exists\n",
        "*   'r+'  - reading and writing\n",
        "*   'w+'  - writing and reading (will overite existing file or create new)"
      ],
      "metadata": {
        "id": "Det0fkCJ_vYn"
      }
    },
    {
      "cell_type": "code",
      "source": [
        "# Create a new file for the different modes\n",
        "%%writefile my_new_file.txt\n",
        "ONE ON FIRST\n",
        "TWO ON second\n",
        "THREE ON THIRD"
      ],
      "metadata": {
        "colab": {
          "base_uri": "https://localhost:8080/"
        },
        "id": "6WFGUA-J9Iy2",
        "outputId": "ecf259d5-22eb-461f-88fa-2789405b55d6"
      },
      "execution_count": 66,
      "outputs": [
        {
          "output_type": "stream",
          "name": "stdout",
          "text": [
            "Overwriting my_new_file.txt\n"
          ]
        }
      ]
    },
    {
      "cell_type": "code",
      "source": [
        "# Reading (r) a file\n",
        "with open('my_new_file.txt',mode='r') as f:\n",
        "  print(f.read())"
      ],
      "metadata": {
        "colab": {
          "base_uri": "https://localhost:8080/"
        },
        "id": "ptlw7_PPF9hT",
        "outputId": "b80e5ce4-fbe4-446f-9f09-1aaf81e7cb5a"
      },
      "execution_count": 67,
      "outputs": [
        {
          "output_type": "stream",
          "name": "stdout",
          "text": [
            "ONE ON FIRST\n",
            "TWO ON second\n",
            "THREE ON THIRD\n",
            "\n"
          ]
        }
      ]
    },
    {
      "cell_type": "code",
      "source": [
        "#  appending (a) a file\n",
        "with open('my_new_file.txt',mode='a') as f:\n",
        "  f.write('FOUR ON FOURTH')"
      ],
      "metadata": {
        "id": "UOB9qQq2GUW-"
      },
      "execution_count": 68,
      "outputs": []
    },
    {
      "cell_type": "code",
      "source": [
        "# reading (r) appended file\n",
        "with open('my_new_file.txt',mode='r') as f:\n",
        "  print(f.read())"
      ],
      "metadata": {
        "colab": {
          "base_uri": "https://localhost:8080/"
        },
        "id": "oTBIL8brGYYF",
        "outputId": "3630bf9c-4398-40c6-901f-2477c0ddff4c"
      },
      "execution_count": 69,
      "outputs": [
        {
          "output_type": "stream",
          "name": "stdout",
          "text": [
            "ONE ON FIRST\n",
            "TWO ON second\n",
            "THREE ON THIRD\n",
            "FOUR ON FOURTH\n"
          ]
        }
      ]
    },
    {
      "cell_type": "code",
      "source": [
        "# over-writing or creating new file (w)\n",
        "with open('abcdef.txt',mode='w') as f:\n",
        "   f.write('My creation')"
      ],
      "metadata": {
        "id": "_hBj8QNhGeZy"
      },
      "execution_count": 70,
      "outputs": []
    },
    {
      "cell_type": "code",
      "source": [
        "# reading (r) newly created file\n",
        "with open('abcdef.txt',mode='r') as f:\n",
        "  print(f.read())"
      ],
      "metadata": {
        "colab": {
          "base_uri": "https://localhost:8080/"
        },
        "id": "95vgeT0SGk5x",
        "outputId": "8d657d97-e7fe-468a-84d9-46184a9be888"
      },
      "execution_count": 71,
      "outputs": [
        {
          "output_type": "stream",
          "name": "stdout",
          "text": [
            "My creation\n"
          ]
        }
      ]
    },
    {
      "cell_type": "code",
      "source": [],
      "metadata": {
        "id": "epR51YVuGoBP"
      },
      "execution_count": null,
      "outputs": []
    }
  ]
}